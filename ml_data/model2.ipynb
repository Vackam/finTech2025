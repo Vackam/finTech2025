{
 "cells": [
  {
   "cell_type": "markdown",
   "metadata": {
    "colab": {
     "base_uri": "https://localhost:8080/"
    },
    "executionInfo": {
     "elapsed": 16850,
     "status": "ok",
     "timestamp": 1737205194823,
     "user": {
      "displayName": "신동욱",
      "userId": "07395320685930588072"
     },
     "user_tz": -540
    },
    "id": "S9DQN0r4Jz_G",
    "outputId": "dd013f47-4d20-439b-866a-83918d5c3d78"
   },
   "source": [
    "### !pip uninstall -y scikit-learn\n",
    "!pip install scikit-learn==1.3.1"
   ]
  },
  {
   "cell_type": "code",
   "execution_count": 2,
   "metadata": {
    "colab": {
     "base_uri": "https://localhost:8080/"
    },
    "executionInfo": {
     "elapsed": 4888,
     "status": "ok",
     "timestamp": 1737209244227,
     "user": {
      "displayName": "신동욱",
      "userId": "07395320685930588072"
     },
     "user_tz": -540
    },
    "id": "WdNmRNp9u9D0",
    "outputId": "249fb61e-2820-46e5-d1d5-e87cbde0f317"
   },
   "outputs": [
    {
     "name": "stdout",
     "output_type": "stream",
     "text": [
      "Collecting graphviz\n",
      "  Downloading graphviz-0.20.3-py3-none-any.whl.metadata (12 kB)\n",
      "Downloading graphviz-0.20.3-py3-none-any.whl (47 kB)\n",
      "Installing collected packages: graphviz\n",
      "Successfully installed graphviz-0.20.3\n"
     ]
    }
   ],
   "source": [
    "!pip install graphviz"
   ]
  },
  {
   "cell_type": "code",
   "execution_count": 3,
   "metadata": {},
   "outputs": [
    {
     "name": "stdout",
     "output_type": "stream",
     "text": [
      "Collecting seaborn\n",
      "  Downloading seaborn-0.13.2-py3-none-any.whl.metadata (5.4 kB)\n",
      "Requirement already satisfied: numpy!=1.24.0,>=1.20 in c:\\users\\uesr\\miniconda3\\envs\\fintech2025\\lib\\site-packages (from seaborn) (2.2.1)\n",
      "Collecting pandas>=1.2 (from seaborn)\n",
      "  Downloading pandas-2.2.3-cp313-cp313-win_amd64.whl.metadata (19 kB)\n",
      "Collecting matplotlib!=3.6.1,>=3.4 (from seaborn)\n",
      "  Downloading matplotlib-3.10.0-cp313-cp313-win_amd64.whl.metadata (11 kB)\n",
      "Collecting contourpy>=1.0.1 (from matplotlib!=3.6.1,>=3.4->seaborn)\n",
      "  Downloading contourpy-1.3.1-cp313-cp313-win_amd64.whl.metadata (5.4 kB)\n",
      "Collecting cycler>=0.10 (from matplotlib!=3.6.1,>=3.4->seaborn)\n",
      "  Using cached cycler-0.12.1-py3-none-any.whl.metadata (3.8 kB)\n",
      "Collecting fonttools>=4.22.0 (from matplotlib!=3.6.1,>=3.4->seaborn)\n",
      "  Downloading fonttools-4.55.3-cp313-cp313-win_amd64.whl.metadata (168 kB)\n",
      "Collecting kiwisolver>=1.3.1 (from matplotlib!=3.6.1,>=3.4->seaborn)\n",
      "  Downloading kiwisolver-1.4.8-cp313-cp313-win_amd64.whl.metadata (6.3 kB)\n",
      "Collecting packaging>=20.0 (from matplotlib!=3.6.1,>=3.4->seaborn)\n",
      "  Downloading packaging-24.2-py3-none-any.whl.metadata (3.2 kB)\n",
      "Collecting pillow>=8 (from matplotlib!=3.6.1,>=3.4->seaborn)\n",
      "  Downloading pillow-11.1.0-cp313-cp313-win_amd64.whl.metadata (9.3 kB)\n",
      "Collecting pyparsing>=2.3.1 (from matplotlib!=3.6.1,>=3.4->seaborn)\n",
      "  Downloading pyparsing-3.2.1-py3-none-any.whl.metadata (5.0 kB)\n",
      "Collecting python-dateutil>=2.7 (from matplotlib!=3.6.1,>=3.4->seaborn)\n",
      "  Using cached python_dateutil-2.9.0.post0-py2.py3-none-any.whl.metadata (8.4 kB)\n",
      "Collecting pytz>=2020.1 (from pandas>=1.2->seaborn)\n",
      "  Downloading pytz-2024.2-py2.py3-none-any.whl.metadata (22 kB)\n",
      "Collecting tzdata>=2022.7 (from pandas>=1.2->seaborn)\n",
      "  Downloading tzdata-2024.2-py2.py3-none-any.whl.metadata (1.4 kB)\n",
      "Collecting six>=1.5 (from python-dateutil>=2.7->matplotlib!=3.6.1,>=3.4->seaborn)\n",
      "  Downloading six-1.17.0-py2.py3-none-any.whl.metadata (1.7 kB)\n",
      "Downloading seaborn-0.13.2-py3-none-any.whl (294 kB)\n",
      "Downloading matplotlib-3.10.0-cp313-cp313-win_amd64.whl (8.0 MB)\n",
      "   ---------------------------------------- 0.0/8.0 MB ? eta -:--:--\n",
      "   --------- ------------------------------ 1.8/8.0 MB 10.2 MB/s eta 0:00:01\n",
      "   ---------------------------- ----------- 5.8/8.0 MB 15.0 MB/s eta 0:00:01\n",
      "   ---------------------------------------- 8.0/8.0 MB 16.5 MB/s eta 0:00:00\n",
      "Downloading pandas-2.2.3-cp313-cp313-win_amd64.whl (11.5 MB)\n",
      "   ---------------------------------------- 0.0/11.5 MB ? eta -:--:--\n",
      "   -------------------- ------------------- 5.8/11.5 MB 28.6 MB/s eta 0:00:01\n",
      "   ---------------------------------------  11.3/11.5 MB 30.2 MB/s eta 0:00:01\n",
      "   ---------------------------------------- 11.5/11.5 MB 27.2 MB/s eta 0:00:00\n",
      "Downloading contourpy-1.3.1-cp313-cp313-win_amd64.whl (220 kB)\n",
      "Using cached cycler-0.12.1-py3-none-any.whl (8.3 kB)\n",
      "Downloading fonttools-4.55.3-cp313-cp313-win_amd64.whl (2.2 MB)\n",
      "   ---------------------------------------- 0.0/2.2 MB ? eta -:--:--\n",
      "   ---------------------------------------- 2.2/2.2 MB 28.4 MB/s eta 0:00:00\n",
      "Downloading kiwisolver-1.4.8-cp313-cp313-win_amd64.whl (71 kB)\n",
      "Downloading packaging-24.2-py3-none-any.whl (65 kB)\n",
      "Downloading pillow-11.1.0-cp313-cp313-win_amd64.whl (2.6 MB)\n",
      "   ---------------------------------------- 0.0/2.6 MB ? eta -:--:--\n",
      "   ---------------------------------------- 2.6/2.6 MB 22.8 MB/s eta 0:00:00\n",
      "Downloading pyparsing-3.2.1-py3-none-any.whl (107 kB)\n",
      "Using cached python_dateutil-2.9.0.post0-py2.py3-none-any.whl (229 kB)\n",
      "Downloading pytz-2024.2-py2.py3-none-any.whl (508 kB)\n",
      "Downloading tzdata-2024.2-py2.py3-none-any.whl (346 kB)\n",
      "Downloading six-1.17.0-py2.py3-none-any.whl (11 kB)\n",
      "Installing collected packages: pytz, tzdata, six, pyparsing, pillow, packaging, kiwisolver, fonttools, cycler, contourpy, python-dateutil, pandas, matplotlib, seaborn\n",
      "Successfully installed contourpy-1.3.1 cycler-0.12.1 fonttools-4.55.3 kiwisolver-1.4.8 matplotlib-3.10.0 packaging-24.2 pandas-2.2.3 pillow-11.1.0 pyparsing-3.2.1 python-dateutil-2.9.0.post0 pytz-2024.2 seaborn-0.13.2 six-1.17.0 tzdata-2024.2\n"
     ]
    }
   ],
   "source": [
    "!pip install seaborn"
   ]
  },
  {
   "cell_type": "code",
   "execution_count": 3,
   "metadata": {
    "executionInfo": {
     "elapsed": 6401,
     "status": "ok",
     "timestamp": 1737205222154,
     "user": {
      "displayName": "신동욱",
      "userId": "07395320685930588072"
     },
     "user_tz": -540
    },
    "id": "cEgelOGuIzJV"
   },
   "outputs": [],
   "source": [
    "import pandas as pd\n",
    "import numpy as np\n",
    "import os\n",
    "import matplotlib\n",
    "import matplotlib.pyplot as plt\n",
    "import scipy.stats as spst\n",
    "import imblearn\n",
    "\n",
    "from sklearn.experimental import enable_iterative_imputer\n",
    "from sklearn.impute import IterativeImputer"
   ]
  },
  {
   "cell_type": "code",
   "execution_count": 4,
   "metadata": {
    "executionInfo": {
     "elapsed": 3773,
     "status": "ok",
     "timestamp": 1737205242203,
     "user": {
      "displayName": "신동욱",
      "userId": "07395320685930588072"
     },
     "user_tz": -540
    },
    "id": "ywr6HTviJVE-"
   },
   "outputs": [],
   "source": [
    "pd_sas22 = pd.read_sas('./data_set1.sas7bdat', format='sas7bdat')\n",
    "pd_sas23 = pd.read_sas('./data_set2.sas7bdat', format='sas7bdat')"
   ]
  },
  {
   "cell_type": "code",
   "execution_count": 5,
   "metadata": {
    "colab": {
     "base_uri": "https://localhost:8080/"
    },
    "executionInfo": {
     "elapsed": 914,
     "status": "ok",
     "timestamp": 1737205243116,
     "user": {
      "displayName": "신동욱",
      "userId": "07395320685930588072"
     },
     "user_tz": -540
    },
    "id": "tUdrDRqQJhhM",
    "outputId": "86b3e1d2-cb63-483c-e376-720b88face5e"
   },
   "outputs": [
    {
     "name": "stdout",
     "output_type": "stream",
     "text": [
      "<class 'pandas.core.frame.DataFrame'>\n",
      "RangeIndex: 13194 entries, 0 to 13193\n",
      "Columns: 675 entries, mod_d to LF_SECUR_Y\n",
      "dtypes: float64(632), object(43)\n",
      "memory usage: 67.9+ MB\n"
     ]
    }
   ],
   "source": [
    "df_merged=pd.concat([pd_sas22, pd_sas23], ignore_index=True)\n",
    "df_merged.info()"
   ]
  },
  {
   "cell_type": "markdown",
   "metadata": {
    "id": "KaaLW3gGpDk5"
   },
   "source": [
    "### 데이터 전처리"
   ]
  },
  {
   "cell_type": "code",
   "execution_count": 6,
   "metadata": {
    "colab": {
     "base_uri": "https://localhost:8080/"
    },
    "executionInfo": {
     "elapsed": 709,
     "status": "ok",
     "timestamp": 1737205265581,
     "user": {
      "displayName": "신동욱",
      "userId": "07395320685930588072"
     },
     "user_tz": -540
    },
    "id": "0PsKLNbEJWdi",
    "outputId": "331a3d27-2f41-4ffb-e924-e4947691f120"
   },
   "outputs": [
    {
     "name": "stdout",
     "output_type": "stream",
     "text": [
      "<class 'pandas.core.frame.DataFrame'>\n",
      "RangeIndex: 13194 entries, 0 to 13193\n",
      "Data columns (total 46 columns):\n",
      " #   Column     Non-Null Count  Dtype  \n",
      "---  ------     --------------  -----  \n",
      " 0   allownc    13194 non-null  float64\n",
      " 1   npins      13194 non-null  float64\n",
      " 2   DI1_dg     13185 non-null  float64\n",
      " 3   DI2_dg     13185 non-null  float64\n",
      " 4   DE1_dg     13185 non-null  float64\n",
      " 5   DJ4_dg     13185 non-null  float64\n",
      " 6   DL1_dg     13185 non-null  float64\n",
      " 7   DJ8_dg     13185 non-null  float64\n",
      " 8   DJ6_dg     13185 non-null  float64\n",
      " 9   DH4_dg     13185 non-null  float64\n",
      " 10  DN1_dg     13185 non-null  float64\n",
      " 11  EC_occp    13185 non-null  float64\n",
      " 12  HE_obe     10977 non-null  float64\n",
      " 13  BD1_11     13185 non-null  float64\n",
      " 14  BD2_14     13185 non-null  float64\n",
      " 15  BP16_1     13185 non-null  float64\n",
      " 16  BP16_2     13185 non-null  float64\n",
      " 17  BS3_1      13185 non-null  float64\n",
      " 18  BS3_2      13185 non-null  float64\n",
      " 19  BS12_47    13185 non-null  float64\n",
      " 20  BS12_47_1  13185 non-null  float64\n",
      " 21  BE3_73     13185 non-null  float64\n",
      " 22  BE3_83     13185 non-null  float64\n",
      " 23  BE3_77     13185 non-null  float64\n",
      " 24  BE3_87     13185 non-null  float64\n",
      " 25  BE9        13185 non-null  float64\n",
      " 26  BE5_1      13185 non-null  float64\n",
      " 27  HE_fh      11221 non-null  float64\n",
      " 28  HE_HPfh1   11729 non-null  float64\n",
      " 29  HE_HPfh2   11729 non-null  float64\n",
      " 30  HE_HPfh3   11729 non-null  float64\n",
      " 31  HE_HLfh1   11729 non-null  float64\n",
      " 32  HE_HLfh2   11729 non-null  float64\n",
      " 33  HE_HLfh3   11729 non-null  float64\n",
      " 34  HE_IHDfh1  11729 non-null  float64\n",
      " 35  HE_IHDfh2  11729 non-null  float64\n",
      " 36  HE_IHDfh3  11729 non-null  float64\n",
      " 37  HE_STRfh1  11729 non-null  float64\n",
      " 38  HE_STRfh2  11729 non-null  float64\n",
      " 39  HE_STRfh3  11729 non-null  float64\n",
      " 40  HE_DMfh1   11729 non-null  float64\n",
      " 41  HE_DMfh2   11729 non-null  float64\n",
      " 42  HE_DMfh3   11729 non-null  float64\n",
      " 43  L_BR_FQ    12629 non-null  float64\n",
      " 44  L_LN_FQ    12629 non-null  float64\n",
      " 45  L_DN_FQ    12629 non-null  float64\n",
      "dtypes: float64(46)\n",
      "memory usage: 4.6 MB\n"
     ]
    }
   ],
   "source": [
    "import pandas as pd\n",
    "\n",
    "# 예제 DataFrame (실제 df_merged를 사용하세요)\n",
    "# df_merged = pd.read_csv(\"your_dataset.csv\")\n",
    "\n",
    "# 선택할 변수명 리스트\n",
    "columns_to_select = [\n",
    "    \"allownc\", \"npins\", \"DI1_dg\", \"DI2_dg\", \"DE1_dg\", \"DJ4_dg\", \"DL1_dg\",\n",
    "    \"DJ8_dg\", \"DJ6_dg\", \"DH4_dg\", \"DN1_dg\", \"EC_occp\", \"HE_obe\", \"BD1_11\",\n",
    "    \"BD2_14\", \"BP16_1\", \"BP16_2\", \"BS3_1\", \"BS3_2\", \"BS12_47\", \"BS12_47_1\",\n",
    "    \"BE3_73\", \"BE3_83\", \"BE3_77\", \"BE3_87\", \"BE9\", \"BE5_1\", \"HE_fh\",\n",
    "    \"HE_HPfh1\", \"HE_HPfh2\", \"HE_HPfh3\", \"HE_HLfh1\", \"HE_HLfh2\", \"HE_HLfh3\",\n",
    "    \"HE_IHDfh1\", \"HE_IHDfh2\", \"HE_IHDfh3\", \"HE_STRfh1\", \"HE_STRfh2\",\n",
    "    \"HE_STRfh3\", \"HE_DMfh1\", \"HE_DMfh2\", \"HE_DMfh3\", \"L_BR_FQ\", \"L_LN_FQ\",\n",
    "    \"L_DN_FQ\"\n",
    "]\n",
    "\n",
    "# 새로운 데이터프레임 생성\n",
    "df_selected = df_merged[columns_to_select]\n",
    "\n",
    "# 결과 확인\n",
    "df_selected.info()\n"
   ]
  },
  {
   "cell_type": "code",
   "execution_count": 7,
   "metadata": {
    "colab": {
     "base_uri": "https://localhost:8080/"
    },
    "executionInfo": {
     "elapsed": 929,
     "status": "ok",
     "timestamp": 1737205266777,
     "user": {
      "displayName": "신동욱",
      "userId": "07395320685930588072"
     },
     "user_tz": -540
    },
    "id": "1Y-Nr5dhJX2D",
    "outputId": "737c9ffc-43bb-480c-811f-15be4ee04bf7"
   },
   "outputs": [
    {
     "name": "stdout",
     "output_type": "stream",
     "text": [
      "     DI1_dg  DI2_dg  DE1_dg  DJ4_dg  DL1_dg  DJ8_dg  DJ6_dg  DH4_dg  DN1_dg\n",
      "0.0    8019    8283    9853    9946    9882    8549    9481    9573   10034\n",
      "1.0    3206    2942    1372     348     412    1745     813     721     260\n",
      "8.0    1959    1959    1959    1959    1959    1959    1959    1959    1959\n",
      "9.0       1       1       1     932     932     932     932     932     932\n"
     ]
    }
   ],
   "source": [
    "# 질병(종속변수)의 변수명이 D로 시작하고 dg로 끝남\n",
    "dependent_columns = [col for col in df_selected.columns if col.startswith('D') and col.endswith('dg')]\n",
    "\n",
    "# 종속변수의 데이터 분포 확인\n",
    "disease_value_counts = df_selected[dependent_columns].apply(lambda x: x.value_counts())\n",
    "\n",
    "# 결과 출력\n",
    "print(disease_value_counts)"
   ]
  },
  {
   "cell_type": "code",
   "execution_count": 8,
   "metadata": {
    "colab": {
     "base_uri": "https://localhost:8080/"
    },
    "executionInfo": {
     "elapsed": 8,
     "status": "ok",
     "timestamp": 1737205266777,
     "user": {
      "displayName": "신동욱",
      "userId": "07395320685930588072"
     },
     "user_tz": -540
    },
    "id": "bEl0WdRcJZA9",
    "outputId": "df98810c-3732-435e-9251-22c13433fd07"
   },
   "outputs": [
    {
     "name": "stdout",
     "output_type": "stream",
     "text": [
      "     DI1_dg  DI2_dg  DE1_dg  DJ4_dg  DL1_dg  DJ8_dg  DJ6_dg  DH4_dg  DN1_dg\n",
      "0.0    9358    9550   11038   11905   11841   10508   11440   11532   11993\n",
      "1.0    2895    2703    1215     348     412    1745     813     721     260\n"
     ]
    },
    {
     "name": "stderr",
     "output_type": "stream",
     "text": [
      "C:\\Users\\uesr\\AppData\\Local\\Temp\\ipykernel_1412\\3079253377.py:2: SettingWithCopyWarning: \n",
      "A value is trying to be set on a copy of a slice from a DataFrame.\n",
      "Try using .loc[row_indexer,col_indexer] = value instead\n",
      "\n",
      "See the caveats in the documentation: https://pandas.pydata.org/pandas-docs/stable/user_guide/indexing.html#returning-a-view-versus-a-copy\n",
      "  df_selected[dependent_columns] = df_selected[dependent_columns].replace(8, 0)\n"
     ]
    }
   ],
   "source": [
    "# 8은 0으로 대체\n",
    "df_selected[dependent_columns] = df_selected[dependent_columns].replace(8, 0)\n",
    "\n",
    "# 9는 삭제\n",
    "df_selected = df_selected[~(df_selected[dependent_columns] == 9).any(axis=1)]\n",
    "\n",
    "disease_value_counts = df_selected[dependent_columns].apply(lambda x: x.value_counts())\n",
    "\n",
    "# 결과 확인\n",
    "print(disease_value_counts)"
   ]
  },
  {
   "cell_type": "code",
   "execution_count": 9,
   "metadata": {
    "colab": {
     "base_uri": "https://localhost:8080/",
     "height": 366
    },
    "executionInfo": {
     "elapsed": 6,
     "status": "ok",
     "timestamp": 1737205266777,
     "user": {
      "displayName": "신동욱",
      "userId": "07395320685930588072"
     },
     "user_tz": -540
    },
    "id": "iWZEpsE8Jp_X",
    "outputId": "00cc3b66-dca0-49a0-a4ac-62356e747575"
   },
   "outputs": [
    {
     "data": {
      "text/plain": [
       "DI1_dg    0\n",
       "DI2_dg    0\n",
       "DE1_dg    0\n",
       "DJ4_dg    0\n",
       "DL1_dg    0\n",
       "DJ8_dg    0\n",
       "DJ6_dg    0\n",
       "DH4_dg    0\n",
       "DN1_dg    0\n",
       "dtype: int64"
      ]
     },
     "execution_count": 9,
     "metadata": {},
     "output_type": "execute_result"
    }
   ],
   "source": [
    "# 종속변수가 결측치인 행 삭제\n",
    "df_selected = df_selected.dropna(subset=dependent_columns)\n",
    "\n",
    "df_selected[dependent_columns].isnull().sum()\n"
   ]
  },
  {
   "cell_type": "code",
   "execution_count": 10,
   "metadata": {
    "colab": {
     "base_uri": "https://localhost:8080/",
     "height": 1000
    },
    "executionInfo": {
     "elapsed": 5,
     "status": "ok",
     "timestamp": 1737205266777,
     "user": {
      "displayName": "신동욱",
      "userId": "07395320685930588072"
     },
     "user_tz": -540
    },
    "id": "Q1vRvhlwJq54",
    "outputId": "2a090910-69d6-4e1b-953c-d8aa2cc9ce32"
   },
   "outputs": [
    {
     "data": {
      "text/plain": [
       "HE_obe       2157\n",
       "HE_fh        1781\n",
       "HE_IHDfh1    1295\n",
       "HE_IHDfh2    1295\n",
       "HE_IHDfh3    1295\n",
       "HE_HLfh3     1295\n",
       "HE_STRfh2    1295\n",
       "HE_STRfh3    1295\n",
       "HE_DMfh1     1295\n",
       "HE_DMfh2     1295\n",
       "HE_DMfh3     1295\n",
       "HE_HPfh2     1295\n",
       "HE_HPfh1     1295\n",
       "HE_STRfh1    1295\n",
       "HE_HLfh1     1295\n",
       "HE_HLfh2     1295\n",
       "HE_HPfh3     1295\n",
       "L_LN_FQ       394\n",
       "L_DN_FQ       394\n",
       "L_BR_FQ       394\n",
       "DJ8_dg          0\n",
       "DH4_dg          0\n",
       "npins           0\n",
       "DE1_dg          0\n",
       "DI2_dg          0\n",
       "DI1_dg          0\n",
       "allownc         0\n",
       "DJ6_dg          0\n",
       "DL1_dg          0\n",
       "DJ4_dg          0\n",
       "BD1_11          0\n",
       "EC_occp         0\n",
       "DN1_dg          0\n",
       "BE5_1           0\n",
       "BE3_83          0\n",
       "BE3_77          0\n",
       "BE3_87          0\n",
       "BE9             0\n",
       "BS3_1           0\n",
       "BP16_2          0\n",
       "BP16_1          0\n",
       "BS3_2           0\n",
       "BD2_14          0\n",
       "BS12_47         0\n",
       "BS12_47_1       0\n",
       "BE3_73          0\n",
       "dtype: int64"
      ]
     },
     "execution_count": 10,
     "metadata": {},
     "output_type": "execute_result"
    }
   ],
   "source": [
    "# 남은 변수의 결측치 확인\n",
    "df_selected.isnull().sum().sort_values(ascending=False)"
   ]
  },
  {
   "cell_type": "code",
   "execution_count": 11,
   "metadata": {
    "colab": {
     "base_uri": "https://localhost:8080/",
     "height": 1000
    },
    "executionInfo": {
     "elapsed": 13161,
     "status": "ok",
     "timestamp": 1737205279934,
     "user": {
      "displayName": "신동욱",
      "userId": "07395320685930588072"
     },
     "user_tz": -540
    },
    "id": "Mqa8ofh7Js4a",
    "outputId": "083f104b-0cf0-430c-9f3a-81e74332bb2b"
   },
   "outputs": [
    {
     "data": {
      "text/plain": [
       "allownc      0\n",
       "npins        0\n",
       "DI1_dg       0\n",
       "DI2_dg       0\n",
       "DE1_dg       0\n",
       "DJ4_dg       0\n",
       "DL1_dg       0\n",
       "DJ8_dg       0\n",
       "DJ6_dg       0\n",
       "DH4_dg       0\n",
       "DN1_dg       0\n",
       "EC_occp      0\n",
       "HE_obe       0\n",
       "BD1_11       0\n",
       "BD2_14       0\n",
       "BP16_1       0\n",
       "BP16_2       0\n",
       "BS3_1        0\n",
       "BS3_2        0\n",
       "BS12_47      0\n",
       "BS12_47_1    0\n",
       "BE3_73       0\n",
       "BE3_83       0\n",
       "BE3_77       0\n",
       "BE3_87       0\n",
       "BE9          0\n",
       "BE5_1        0\n",
       "HE_fh        0\n",
       "HE_HPfh1     0\n",
       "HE_HPfh2     0\n",
       "HE_HPfh3     0\n",
       "HE_HLfh1     0\n",
       "HE_HLfh2     0\n",
       "HE_HLfh3     0\n",
       "HE_IHDfh1    0\n",
       "HE_IHDfh2    0\n",
       "HE_IHDfh3    0\n",
       "HE_STRfh1    0\n",
       "HE_STRfh2    0\n",
       "HE_STRfh3    0\n",
       "HE_DMfh1     0\n",
       "HE_DMfh2     0\n",
       "HE_DMfh3     0\n",
       "L_BR_FQ      0\n",
       "L_LN_FQ      0\n",
       "L_DN_FQ      0\n",
       "dtype: int64"
      ]
     },
     "execution_count": 11,
     "metadata": {},
     "output_type": "execute_result"
    }
   ],
   "source": [
    "# MICE 결측치 대체\n",
    "miceimputer = IterativeImputer(random_state=42)\n",
    "df_processed = pd.DataFrame(miceimputer.fit_transform(df_selected), columns=df_selected.columns)\n",
    "df_processed.isnull().sum()"
   ]
  },
  {
   "cell_type": "code",
   "execution_count": 12,
   "metadata": {
    "executionInfo": {
     "elapsed": 5,
     "status": "ok",
     "timestamp": 1737205279934,
     "user": {
      "displayName": "신동욱",
      "userId": "07395320685930588072"
     },
     "user_tz": -540
    },
    "id": "l_AnCZ2EJDIw"
   },
   "outputs": [],
   "source": [
    "# 독립변수와 종속변수로 나누기\n",
    "y = df_processed[dependent_columns].copy()\n",
    "x = df_processed.drop(columns=dependent_columns).copy()"
   ]
  },
  {
   "cell_type": "code",
   "execution_count": 13,
   "metadata": {
    "executionInfo": {
     "elapsed": 5,
     "status": "ok",
     "timestamp": 1737205279934,
     "user": {
      "displayName": "신동욱",
      "userId": "07395320685930588072"
     },
     "user_tz": -540
    },
    "id": "QGqKfeTcJFSC"
   },
   "outputs": [],
   "source": [
    "# 독립변수 분포 확인 후 클래스 불균형이 너무 심하거나 다른 변수로도 대체가능할 것으로 보이는 변수 삭제\n",
    "x_cleaned = x.drop(columns=['BS3_2', 'BS12_47', 'BS12_47_1', 'BE3_73', 'BE3_83', 'BE3_77', 'BE3_87', 'BE9'])"
   ]
  },
  {
   "cell_type": "code",
   "execution_count": 14,
   "metadata": {
    "executionInfo": {
     "elapsed": 4,
     "status": "ok",
     "timestamp": 1737205279934,
     "user": {
      "displayName": "신동욱",
      "userId": "07395320685930588072"
     },
     "user_tz": -540
    },
    "id": "CUjKBWN5JGLE"
   },
   "outputs": [],
   "source": [
    "import pandas as pd\n",
    "\n",
    "# 값 변경 함수\n",
    "def modify_values(df):\n",
    "    # allownc열\n",
    "    df['allownc'] = df['allownc'].replace({10: 1, 20 : 0})\n",
    "\n",
    "    # npins 열\n",
    "    df['npins'] = df['npins'].replace({9: 1, 2: 0})\n",
    "\n",
    "    # EC_occp 열\n",
    "    df['EC_occp'] = df['EC_occp'].replace({88: 11, 99: 11})\n",
    "\n",
    "    # BE9 열\n",
    "    df['EC_occp'] = df['EC_occp'].replace({88: 1, 99: 1})\n",
    "\n",
    "    # BS5_1 열\n",
    "    df['BE5_1'] = df['BE5_1'].replace({9: 1})\n",
    "\n",
    "    # BD1_11 열\n",
    "    df['BD1_11'] = df['BD1_11'].replace({8: 1, 9: 1})\n",
    "\n",
    "    # BD2_14 열\n",
    "    df['BD2_14'] = df['BD2_14'].replace({888: 1, 999: 1})\n",
    "\n",
    "    # BP16_1 열\n",
    "    bp16_1_mode = df['BP16_1'].mode()[0]  # BP16_1 최빈값 계산\n",
    "    df['BP16_1'] = df['BP16_1'].replace({1: 5, 2: 5, 3: 5, 4: 5,\n",
    "                                         10: 9, 11: 9, 12: 9, 13: 9, 14: 9,\n",
    "                                         88: bp16_1_mode, 99: bp16_1_mode})\n",
    "\n",
    "    # BP16_2 열\n",
    "    bp16_2_mode = df['BP16_2'].mode()[0]  # BP16_2 최빈값 계산\n",
    "    df['BP16_2'] = df['BP16_2'].replace({1: 5, 2: 5, 3: 5, 4: 5,\n",
    "                                         10: 9, 11: 9, 12: 9, 13: 9, 14: 9, 15: 9, 16: 9,\n",
    "                                         88: bp16_2_mode, 99: bp16_2_mode})\n",
    "\n",
    "    # BS3_1 열\n",
    "    df['BS3_1'] = df['BS3_1'].replace({2: 1, 8: 2, 9: 2, 3:2})\n",
    "\n",
    "    return df\n",
    "\n",
    "# x_cleaned 데이터프레임 값 변경 적용\n",
    "x_cleaned = modify_values(x_cleaned)\n"
   ]
  },
  {
   "cell_type": "code",
   "execution_count": 15,
   "metadata": {
    "colab": {
     "base_uri": "https://localhost:8080/",
     "height": 236
    },
    "executionInfo": {
     "elapsed": 4,
     "status": "ok",
     "timestamp": 1737205279934,
     "user": {
      "displayName": "신동욱",
      "userId": "07395320685930588072"
     },
     "user_tz": -540
    },
    "id": "qspVt_4xJIfM",
    "outputId": "9a713007-9c13-4eb4-abe0-614319c69ef9"
   },
   "outputs": [
    {
     "data": {
      "text/html": [
       "<div>\n",
       "<style scoped>\n",
       "    .dataframe tbody tr th:only-of-type {\n",
       "        vertical-align: middle;\n",
       "    }\n",
       "\n",
       "    .dataframe tbody tr th {\n",
       "        vertical-align: top;\n",
       "    }\n",
       "\n",
       "    .dataframe thead th {\n",
       "        text-align: right;\n",
       "    }\n",
       "</style>\n",
       "<table border=\"1\" class=\"dataframe\">\n",
       "  <thead>\n",
       "    <tr style=\"text-align: right;\">\n",
       "      <th></th>\n",
       "      <th>allownc</th>\n",
       "      <th>npins</th>\n",
       "      <th>EC_occp</th>\n",
       "      <th>HE_obe</th>\n",
       "      <th>BD1_11</th>\n",
       "      <th>BD2_14</th>\n",
       "      <th>BP16_1</th>\n",
       "      <th>BP16_2</th>\n",
       "      <th>BS3_1</th>\n",
       "      <th>BE5_1</th>\n",
       "      <th>...</th>\n",
       "      <th>HE_IHDfh3</th>\n",
       "      <th>HE_STRfh1</th>\n",
       "      <th>HE_STRfh2</th>\n",
       "      <th>HE_STRfh3</th>\n",
       "      <th>HE_DMfh1</th>\n",
       "      <th>HE_DMfh2</th>\n",
       "      <th>HE_DMfh3</th>\n",
       "      <th>L_BR_FQ</th>\n",
       "      <th>L_LN_FQ</th>\n",
       "      <th>L_DN_FQ</th>\n",
       "    </tr>\n",
       "  </thead>\n",
       "  <tbody>\n",
       "    <tr>\n",
       "      <th>0</th>\n",
       "      <td>0.0</td>\n",
       "      <td>1.0</td>\n",
       "      <td>11.0</td>\n",
       "      <td>4.0</td>\n",
       "      <td>1.0</td>\n",
       "      <td>1.0</td>\n",
       "      <td>8.0</td>\n",
       "      <td>9.0</td>\n",
       "      <td>2.0</td>\n",
       "      <td>1.0</td>\n",
       "      <td>...</td>\n",
       "      <td>0.0</td>\n",
       "      <td>0.0</td>\n",
       "      <td>0.0</td>\n",
       "      <td>0.0</td>\n",
       "      <td>0.0</td>\n",
       "      <td>0.0</td>\n",
       "      <td>0.0</td>\n",
       "      <td>3.0</td>\n",
       "      <td>1.0</td>\n",
       "      <td>1.0</td>\n",
       "    </tr>\n",
       "    <tr>\n",
       "      <th>1</th>\n",
       "      <td>0.0</td>\n",
       "      <td>1.0</td>\n",
       "      <td>5.0</td>\n",
       "      <td>4.0</td>\n",
       "      <td>3.0</td>\n",
       "      <td>1.0</td>\n",
       "      <td>7.0</td>\n",
       "      <td>7.0</td>\n",
       "      <td>2.0</td>\n",
       "      <td>6.0</td>\n",
       "      <td>...</td>\n",
       "      <td>0.0</td>\n",
       "      <td>0.0</td>\n",
       "      <td>0.0</td>\n",
       "      <td>0.0</td>\n",
       "      <td>1.0</td>\n",
       "      <td>0.0</td>\n",
       "      <td>0.0</td>\n",
       "      <td>1.0</td>\n",
       "      <td>1.0</td>\n",
       "      <td>1.0</td>\n",
       "    </tr>\n",
       "    <tr>\n",
       "      <th>2</th>\n",
       "      <td>0.0</td>\n",
       "      <td>1.0</td>\n",
       "      <td>11.0</td>\n",
       "      <td>2.0</td>\n",
       "      <td>4.0</td>\n",
       "      <td>1.0</td>\n",
       "      <td>6.0</td>\n",
       "      <td>8.0</td>\n",
       "      <td>2.0</td>\n",
       "      <td>6.0</td>\n",
       "      <td>...</td>\n",
       "      <td>0.0</td>\n",
       "      <td>0.0</td>\n",
       "      <td>0.0</td>\n",
       "      <td>0.0</td>\n",
       "      <td>1.0</td>\n",
       "      <td>0.0</td>\n",
       "      <td>0.0</td>\n",
       "      <td>4.0</td>\n",
       "      <td>1.0</td>\n",
       "      <td>2.0</td>\n",
       "    </tr>\n",
       "    <tr>\n",
       "      <th>3</th>\n",
       "      <td>0.0</td>\n",
       "      <td>1.0</td>\n",
       "      <td>11.0</td>\n",
       "      <td>3.0</td>\n",
       "      <td>3.0</td>\n",
       "      <td>1.0</td>\n",
       "      <td>9.0</td>\n",
       "      <td>9.0</td>\n",
       "      <td>2.0</td>\n",
       "      <td>1.0</td>\n",
       "      <td>...</td>\n",
       "      <td>0.0</td>\n",
       "      <td>0.0</td>\n",
       "      <td>0.0</td>\n",
       "      <td>1.0</td>\n",
       "      <td>0.0</td>\n",
       "      <td>0.0</td>\n",
       "      <td>0.0</td>\n",
       "      <td>1.0</td>\n",
       "      <td>1.0</td>\n",
       "      <td>1.0</td>\n",
       "    </tr>\n",
       "    <tr>\n",
       "      <th>4</th>\n",
       "      <td>0.0</td>\n",
       "      <td>1.0</td>\n",
       "      <td>9.0</td>\n",
       "      <td>2.0</td>\n",
       "      <td>2.0</td>\n",
       "      <td>1.0</td>\n",
       "      <td>7.0</td>\n",
       "      <td>9.0</td>\n",
       "      <td>2.0</td>\n",
       "      <td>4.0</td>\n",
       "      <td>...</td>\n",
       "      <td>0.0</td>\n",
       "      <td>0.0</td>\n",
       "      <td>0.0</td>\n",
       "      <td>1.0</td>\n",
       "      <td>0.0</td>\n",
       "      <td>0.0</td>\n",
       "      <td>1.0</td>\n",
       "      <td>1.0</td>\n",
       "      <td>1.0</td>\n",
       "      <td>1.0</td>\n",
       "    </tr>\n",
       "  </tbody>\n",
       "</table>\n",
       "<p>5 rows × 29 columns</p>\n",
       "</div>"
      ],
      "text/plain": [
       "   allownc  npins  EC_occp  HE_obe  BD1_11  BD2_14  BP16_1  BP16_2  BS3_1  \\\n",
       "0      0.0    1.0     11.0     4.0     1.0     1.0     8.0     9.0    2.0   \n",
       "1      0.0    1.0      5.0     4.0     3.0     1.0     7.0     7.0    2.0   \n",
       "2      0.0    1.0     11.0     2.0     4.0     1.0     6.0     8.0    2.0   \n",
       "3      0.0    1.0     11.0     3.0     3.0     1.0     9.0     9.0    2.0   \n",
       "4      0.0    1.0      9.0     2.0     2.0     1.0     7.0     9.0    2.0   \n",
       "\n",
       "   BE5_1  ...  HE_IHDfh3  HE_STRfh1  HE_STRfh2  HE_STRfh3  HE_DMfh1  HE_DMfh2  \\\n",
       "0    1.0  ...        0.0        0.0        0.0        0.0       0.0       0.0   \n",
       "1    6.0  ...        0.0        0.0        0.0        0.0       1.0       0.0   \n",
       "2    6.0  ...        0.0        0.0        0.0        0.0       1.0       0.0   \n",
       "3    1.0  ...        0.0        0.0        0.0        1.0       0.0       0.0   \n",
       "4    4.0  ...        0.0        0.0        0.0        1.0       0.0       0.0   \n",
       "\n",
       "   HE_DMfh3  L_BR_FQ  L_LN_FQ  L_DN_FQ  \n",
       "0       0.0      3.0      1.0      1.0  \n",
       "1       0.0      1.0      1.0      1.0  \n",
       "2       0.0      4.0      1.0      2.0  \n",
       "3       0.0      1.0      1.0      1.0  \n",
       "4       1.0      1.0      1.0      1.0  \n",
       "\n",
       "[5 rows x 29 columns]"
      ]
     },
     "execution_count": 15,
     "metadata": {},
     "output_type": "execute_result"
    }
   ],
   "source": [
    "# 'HE'로 시작하는 변수와 'L'로 시작하고 'FQ'로 끝나는 변수 선택\n",
    "columns_to_round = [col for col in x_cleaned.columns if col.startswith('HE') or (col.startswith('L') and col.endswith('FQ'))]\n",
    "\n",
    "# 선택된 열에 대해 반올림과 반내림\n",
    "for col in columns_to_round:\n",
    "    # 반올림\n",
    "    x_cleaned[f'{col}'] = np.round(x_cleaned[col])\n",
    "    # 반내림 (내림은 floor 사용)\n",
    "    x_cleaned[f'{col}'] = np.floor(x_cleaned[col])\n",
    "\n",
    "# 결과 확인\n",
    "x_cleaned.head()\n"
   ]
  },
  {
   "cell_type": "code",
   "execution_count": 16,
   "metadata": {
    "colab": {
     "base_uri": "https://localhost:8080/"
    },
    "executionInfo": {
     "elapsed": 711,
     "status": "ok",
     "timestamp": 1737205280642,
     "user": {
      "displayName": "신동욱",
      "userId": "07395320685930588072"
     },
     "user_tz": -540
    },
    "id": "gMkmBgTxJKku",
    "outputId": "61520b10-8202-43c2-9e80-8c96aa99544f"
   },
   "outputs": [],
   "source": [
    "# 식사 여부와 관련된 변수 삭제\n",
    "columns_meal = [c for c in x_cleaned.columns if c.startswith('L') and c.endswith('FQ')]\n",
    "x_cleaned = x_cleaned.drop(columns=columns_meal)\n",
    "\n",
    "# 'HE'로 시작하면서 'HE_obe'를 제외하는 변수 처리 함수\n",
    "def replace_he_values_excluding_obe(df):\n",
    "    # 'HE'로 시작하는 변수들 중에서 'HE_obe' 제외\n",
    "    he_columns = [col for col in df.columns if col.startswith('HE') and col != 'HE_obe']\n",
    "\n",
    "    # 조건에 맞는 값(8, 9)을 1로 변환\n",
    "    df[he_columns] = df[he_columns].map(lambda x: 1 if x in [2, 3, 4, 5, 8, 9] else x)\n",
    "\n",
    "    return df\n",
    "\n",
    "# 함수 적용\n",
    "x_cleaned_updated = replace_he_values_excluding_obe(x_cleaned)"
   ]
  },
  {
   "cell_type": "code",
   "execution_count": 17,
   "metadata": {
    "colab": {
     "base_uri": "https://localhost:8080/"
    },
    "executionInfo": {
     "elapsed": 4,
     "status": "ok",
     "timestamp": 1737205280642,
     "user": {
      "displayName": "신동욱",
      "userId": "07395320685930588072"
     },
     "user_tz": -540
    },
    "id": "1nToJEzFpSAv",
    "outputId": "f7f9ca47-1278-4718-b23b-b7fb253c6191"
   },
   "outputs": [
    {
     "name": "stdout",
     "output_type": "stream",
     "text": [
      "<class 'pandas.core.frame.DataFrame'>\n",
      "RangeIndex: 12253 entries, 0 to 12252\n",
      "Data columns (total 26 columns):\n",
      " #   Column     Non-Null Count  Dtype  \n",
      "---  ------     --------------  -----  \n",
      " 0   allownc    12253 non-null  float64\n",
      " 1   npins      12253 non-null  float64\n",
      " 2   EC_occp    12253 non-null  float64\n",
      " 3   HE_obe     12253 non-null  float64\n",
      " 4   BD1_11     12253 non-null  float64\n",
      " 5   BD2_14     12253 non-null  float64\n",
      " 6   BP16_1     12253 non-null  float64\n",
      " 7   BP16_2     12253 non-null  float64\n",
      " 8   BS3_1      12253 non-null  float64\n",
      " 9   BE5_1      12253 non-null  float64\n",
      " 10  HE_fh      12253 non-null  float64\n",
      " 11  HE_HPfh1   12253 non-null  float64\n",
      " 12  HE_HPfh2   12253 non-null  float64\n",
      " 13  HE_HPfh3   12253 non-null  float64\n",
      " 14  HE_HLfh1   12253 non-null  float64\n",
      " 15  HE_HLfh2   12253 non-null  float64\n",
      " 16  HE_HLfh3   12253 non-null  float64\n",
      " 17  HE_IHDfh1  12253 non-null  float64\n",
      " 18  HE_IHDfh2  12253 non-null  float64\n",
      " 19  HE_IHDfh3  12253 non-null  float64\n",
      " 20  HE_STRfh1  12253 non-null  float64\n",
      " 21  HE_STRfh2  12253 non-null  float64\n",
      " 22  HE_STRfh3  12253 non-null  float64\n",
      " 23  HE_DMfh1   12253 non-null  float64\n",
      " 24  HE_DMfh2   12253 non-null  float64\n",
      " 25  HE_DMfh3   12253 non-null  float64\n",
      "dtypes: float64(26)\n",
      "memory usage: 2.4 MB\n"
     ]
    }
   ],
   "source": [
    "x_cleaned_updated.info()"
   ]
  },
  {
   "cell_type": "code",
   "execution_count": 18,
   "metadata": {},
   "outputs": [
    {
     "ename": "ImportError",
     "evalue": "cannot import name 'VectorPlotter' from 'seaborn._core' (C:\\Users\\uesr\\miniconda3\\envs\\finTech2025\\Lib\\site-packages\\seaborn\\_core\\__init__.py)",
     "output_type": "error",
     "traceback": [
      "\u001b[1;31m---------------------------------------------------------------------------\u001b[0m",
      "\u001b[1;31mImportError\u001b[0m                               Traceback (most recent call last)",
      "Cell \u001b[1;32mIn[18], line 1\u001b[0m\n\u001b[1;32m----> 1\u001b[0m \u001b[38;5;28;01mimport\u001b[39;00m\u001b[38;5;250m \u001b[39m\u001b[38;5;21;01mseaborn\u001b[39;00m\n",
      "File \u001b[1;32m~\\miniconda3\\envs\\finTech2025\\Lib\\site-packages\\seaborn\\__init__.py:5\u001b[0m\n\u001b[0;32m      3\u001b[0m \u001b[38;5;28;01mfrom\u001b[39;00m\u001b[38;5;250m \u001b[39m\u001b[38;5;21;01m.\u001b[39;00m\u001b[38;5;21;01mutils\u001b[39;00m\u001b[38;5;250m \u001b[39m\u001b[38;5;28;01mimport\u001b[39;00m \u001b[38;5;241m*\u001b[39m  \u001b[38;5;66;03m# noqa: F401,F403\u001b[39;00m\n\u001b[0;32m      4\u001b[0m \u001b[38;5;28;01mfrom\u001b[39;00m\u001b[38;5;250m \u001b[39m\u001b[38;5;21;01m.\u001b[39;00m\u001b[38;5;21;01mpalettes\u001b[39;00m\u001b[38;5;250m \u001b[39m\u001b[38;5;28;01mimport\u001b[39;00m \u001b[38;5;241m*\u001b[39m  \u001b[38;5;66;03m# noqa: F401,F403\u001b[39;00m\n\u001b[1;32m----> 5\u001b[0m \u001b[38;5;28;01mfrom\u001b[39;00m\u001b[38;5;250m \u001b[39m\u001b[38;5;21;01m.\u001b[39;00m\u001b[38;5;21;01mrelational\u001b[39;00m\u001b[38;5;250m \u001b[39m\u001b[38;5;28;01mimport\u001b[39;00m \u001b[38;5;241m*\u001b[39m  \u001b[38;5;66;03m# noqa: F401,F403\u001b[39;00m\n\u001b[0;32m      6\u001b[0m \u001b[38;5;28;01mfrom\u001b[39;00m\u001b[38;5;250m \u001b[39m\u001b[38;5;21;01m.\u001b[39;00m\u001b[38;5;21;01mregression\u001b[39;00m\u001b[38;5;250m \u001b[39m\u001b[38;5;28;01mimport\u001b[39;00m \u001b[38;5;241m*\u001b[39m  \u001b[38;5;66;03m# noqa: F401,F403\u001b[39;00m\n\u001b[0;32m      7\u001b[0m \u001b[38;5;28;01mfrom\u001b[39;00m\u001b[38;5;250m \u001b[39m\u001b[38;5;21;01m.\u001b[39;00m\u001b[38;5;21;01mcategorical\u001b[39;00m\u001b[38;5;250m \u001b[39m\u001b[38;5;28;01mimport\u001b[39;00m \u001b[38;5;241m*\u001b[39m  \u001b[38;5;66;03m# noqa: F401,F403\u001b[39;00m\n",
      "File \u001b[1;32m~\\miniconda3\\envs\\finTech2025\\Lib\\site-packages\\seaborn\\relational.py:8\u001b[0m\n\u001b[0;32m      5\u001b[0m \u001b[38;5;28;01mimport\u001b[39;00m\u001b[38;5;250m \u001b[39m\u001b[38;5;21;01mmatplotlib\u001b[39;00m\u001b[38;5;250m \u001b[39m\u001b[38;5;28;01mas\u001b[39;00m\u001b[38;5;250m \u001b[39m\u001b[38;5;21;01mmpl\u001b[39;00m\n\u001b[0;32m      6\u001b[0m \u001b[38;5;28;01mimport\u001b[39;00m\u001b[38;5;250m \u001b[39m\u001b[38;5;21;01mmatplotlib\u001b[39;00m\u001b[38;5;21;01m.\u001b[39;00m\u001b[38;5;21;01mpyplot\u001b[39;00m\u001b[38;5;250m \u001b[39m\u001b[38;5;28;01mas\u001b[39;00m\u001b[38;5;250m \u001b[39m\u001b[38;5;21;01mplt\u001b[39;00m\n\u001b[1;32m----> 8\u001b[0m \u001b[38;5;28;01mfrom\u001b[39;00m\u001b[38;5;250m \u001b[39m\u001b[38;5;21;01m.\u001b[39;00m\u001b[38;5;21;01m_core\u001b[39;00m\u001b[38;5;250m \u001b[39m\u001b[38;5;28;01mimport\u001b[39;00m (\n\u001b[0;32m      9\u001b[0m     VectorPlotter,\n\u001b[0;32m     10\u001b[0m )\n\u001b[0;32m     11\u001b[0m \u001b[38;5;28;01mfrom\u001b[39;00m\u001b[38;5;250m \u001b[39m\u001b[38;5;21;01m.\u001b[39;00m\u001b[38;5;21;01mutils\u001b[39;00m\u001b[38;5;250m \u001b[39m\u001b[38;5;28;01mimport\u001b[39;00m (\n\u001b[0;32m     12\u001b[0m     ci_to_errsize,\n\u001b[0;32m     13\u001b[0m     locator_to_legend_entries,\n\u001b[0;32m     14\u001b[0m     adjust_legend_subtitles,\n\u001b[0;32m     15\u001b[0m     ci \u001b[38;5;28;01mas\u001b[39;00m ci_func\n\u001b[0;32m     16\u001b[0m )\n\u001b[0;32m     17\u001b[0m \u001b[38;5;28;01mfrom\u001b[39;00m\u001b[38;5;250m \u001b[39m\u001b[38;5;21;01m.\u001b[39;00m\u001b[38;5;21;01malgorithms\u001b[39;00m\u001b[38;5;250m \u001b[39m\u001b[38;5;28;01mimport\u001b[39;00m bootstrap\n",
      "\u001b[1;31mImportError\u001b[0m: cannot import name 'VectorPlotter' from 'seaborn._core' (C:\\Users\\uesr\\miniconda3\\envs\\finTech2025\\Lib\\site-packages\\seaborn\\_core\\__init__.py)"
     ]
    }
   ],
   "source": [
    "import seaborn"
   ]
  },
  {
   "cell_type": "code",
   "execution_count": 19,
   "metadata": {
    "colab": {
     "base_uri": "https://localhost:8080/",
     "height": 1000
    },
    "executionInfo": {
     "elapsed": 5120,
     "status": "ok",
     "timestamp": 1737205285759,
     "user": {
      "displayName": "신동욱",
      "userId": "07395320685930588072"
     },
     "user_tz": -540
    },
    "id": "pCHZUYaLFiPv",
    "outputId": "5b231358-7ca4-456d-82f0-2c20de51221f"
   },
   "outputs": [],
   "source": [
    "# # 독립변수 분포 시각화\n",
    "# import math\n",
    "# import matplotlib.pyplot as plt\n",
    "# import seaborn as sns\n",
    "\n",
    "# # 데이터프레임 x의 열들로 대상 변수 설정\n",
    "# target_columns = x_cleaned_updated.columns\n",
    "\n",
    "# # 서브플롯 설정\n",
    "# num_columns = len(target_columns)\n",
    "# columns_per_row = 3  # 한 행당 서브플롯 수\n",
    "# num_rows = math.ceil(num_columns / columns_per_row)  # 필요한 행의 수\n",
    "\n",
    "# # Figure 사이즈 설정\n",
    "# plt.figure(figsize=(columns_per_row * 5, num_rows * 4))\n",
    "\n",
    "# # 열별로 값의 분포 시각화\n",
    "# for i, col in enumerate(target_columns, 1):\n",
    "#     plt.subplot(num_rows, columns_per_row, i)\n",
    "#     sns.countplot(x=x_cleaned_updated[col], palette=\"Set2\")\n",
    "#     plt.title(f'Value Distribution in {col}')\n",
    "#     plt.xlabel('Value')\n",
    "#     plt.ylabel('Count')\n",
    "\n",
    "# # 간격 조정\n",
    "# plt.tight_layout()\n",
    "# plt.show()\n"
   ]
  },
  {
   "cell_type": "markdown",
   "metadata": {
    "id": "UbGqrqOYJObh"
   },
   "source": [
    "### 모델링"
   ]
  },
  {
   "cell_type": "code",
   "execution_count": 20,
   "metadata": {},
   "outputs": [],
   "source": [
    "from collections import Counter\n",
    "from imblearn.under_sampling import RandomUnderSampler\n",
    "from imblearn.over_sampling import SMOTE\n",
    "from sklearn.model_selection import train_test_split, RandomizedSearchCV\n",
    "from sklearn.metrics import accuracy_score, roc_auc_score\n",
    "import xgboost as xgb\n",
    "import joblib  # 모델 저장을 위한 라이브러리\n",
    "\n",
    "# 결과를 저장할 딕셔너리\n",
    "xgboost_results = {}\n",
    "\n",
    "# 하이퍼파라미터 그리드 확장\n",
    "param_grid = {\n",
    "    'n_estimators': [100, 200, 300],\n",
    "    'max_depth': [4, 6, 8, 10, 12],\n",
    "    'learning_rate': [0.01, 0.05, 0.1, 0.2],\n",
    "    'subsample': [0.7, 0.8, 1.0],\n",
    "    'colsample_bytree': [0.7, 0.8, 1.0]\n",
    "}\n",
    "\n",
    "# RandomizedSearchCV 설정\n",
    "grid_search = RandomizedSearchCV(\n",
    "    estimator=xgb.XGBClassifier(objective='binary:logistic', random_state=42, use_label_encoder=False),\n",
    "    param_distributions=param_grid,\n",
    "    n_iter=50,\n",
    "    scoring='roc_auc',  # AUC 기반 평가\n",
    "    cv=5,\n",
    "    verbose=1,\n",
    "    random_state=42,\n",
    "    n_jobs=-1\n",
    ")"
   ]
  },
  {
   "cell_type": "code",
   "execution_count": 21,
   "metadata": {
    "colab": {
     "base_uri": "https://localhost:8080/"
    },
    "executionInfo": {
     "elapsed": 2433054,
     "status": "ok",
     "timestamp": 1737208247983,
     "user": {
      "displayName": "신동욱",
      "userId": "07395320685930588072"
     },
     "user_tz": -540
    },
    "id": "2EGHFCDQJ_Tg",
    "outputId": "6858fcae-ad90-4515-be87-42df8eb2050d"
   },
   "outputs": [
    {
     "name": "stdout",
     "output_type": "stream",
     "text": [
      "\n",
      "Processing target variable: DI1_dg\n",
      "Original class distribution for DI1_dg: Counter({0.0: 7486, 1.0: 2316})\n",
      "After undersampling class distribution for DI1_dg: Counter({0.0: 6948, 1.0: 2316})\n",
      "After SMOTE oversampling class distribution for DI1_dg: Counter({0.0: 6948, 1.0: 6948})\n",
      "X_balanced type: <class 'pandas.core.frame.DataFrame'>, y_balanced type: <class 'pandas.core.series.Series'>\n",
      "X_balanced shape: (13896, 26), y_balanced shape: (13896,)\n",
      "Fitting 5 folds for each of 50 candidates, totalling 250 fits\n"
     ]
    },
    {
     "name": "stderr",
     "output_type": "stream",
     "text": [
      "C:\\Users\\uesr\\miniconda3\\envs\\finTech2025\\Lib\\site-packages\\xgboost\\core.py:158: UserWarning: [20:46:25] WARNING: D:\\bld\\xgboost-split_1733179550881\\work\\src\\learner.cc:740: \n",
      "Parameters: { \"use_label_encoder\" } are not used.\n",
      "\n",
      "  warnings.warn(smsg, UserWarning)\n"
     ]
    },
    {
     "name": "stdout",
     "output_type": "stream",
     "text": [
      "Best Parameters for DI1_dg: {'subsample': 1.0, 'n_estimators': 200, 'max_depth': 10, 'learning_rate': 0.05, 'colsample_bytree': 0.7}\n",
      "Model for DI1_dg saved as models\\best_model_DI1_dg.pkl\n",
      "DI1_dg - Accuracy: 0.7915, AUC: 0.8140\n",
      "\n",
      "Processing target variable: DI2_dg\n",
      "Original class distribution for DI2_dg: Counter({0.0: 7640, 1.0: 2162})\n",
      "After undersampling class distribution for DI2_dg: Counter({0.0: 6486, 1.0: 2162})\n",
      "After SMOTE oversampling class distribution for DI2_dg: Counter({0.0: 6486, 1.0: 6486})\n",
      "X_balanced type: <class 'pandas.core.frame.DataFrame'>, y_balanced type: <class 'pandas.core.series.Series'>\n",
      "X_balanced shape: (12972, 26), y_balanced shape: (12972,)\n",
      "Fitting 5 folds for each of 50 candidates, totalling 250 fits\n"
     ]
    },
    {
     "name": "stderr",
     "output_type": "stream",
     "text": [
      "C:\\Users\\uesr\\miniconda3\\envs\\finTech2025\\Lib\\site-packages\\xgboost\\core.py:158: UserWarning: [20:48:54] WARNING: D:\\bld\\xgboost-split_1733179550881\\work\\src\\learner.cc:740: \n",
      "Parameters: { \"use_label_encoder\" } are not used.\n",
      "\n",
      "  warnings.warn(smsg, UserWarning)\n"
     ]
    },
    {
     "name": "stdout",
     "output_type": "stream",
     "text": [
      "Best Parameters for DI2_dg: {'subsample': 1.0, 'n_estimators': 200, 'max_depth': 12, 'learning_rate': 0.05, 'colsample_bytree': 0.7}\n",
      "Model for DI2_dg saved as models\\best_model_DI2_dg.pkl\n",
      "DI2_dg - Accuracy: 0.7630, AUC: 0.7530\n",
      "\n",
      "Processing target variable: DE1_dg\n",
      "Original class distribution for DE1_dg: Counter({0.0: 8830, 1.0: 972})\n",
      "After undersampling class distribution for DE1_dg: Counter({0.0: 2916, 1.0: 972})\n",
      "After SMOTE oversampling class distribution for DE1_dg: Counter({0.0: 2916, 1.0: 2916})\n",
      "X_balanced type: <class 'pandas.core.frame.DataFrame'>, y_balanced type: <class 'pandas.core.series.Series'>\n",
      "X_balanced shape: (5832, 26), y_balanced shape: (5832,)\n",
      "Fitting 5 folds for each of 50 candidates, totalling 250 fits\n"
     ]
    },
    {
     "name": "stderr",
     "output_type": "stream",
     "text": [
      "C:\\Users\\uesr\\miniconda3\\envs\\finTech2025\\Lib\\site-packages\\xgboost\\core.py:158: UserWarning: [20:50:30] WARNING: D:\\bld\\xgboost-split_1733179550881\\work\\src\\learner.cc:740: \n",
      "Parameters: { \"use_label_encoder\" } are not used.\n",
      "\n",
      "  warnings.warn(smsg, UserWarning)\n"
     ]
    },
    {
     "name": "stdout",
     "output_type": "stream",
     "text": [
      "Best Parameters for DE1_dg: {'subsample': 0.7, 'n_estimators': 100, 'max_depth': 10, 'learning_rate': 0.05, 'colsample_bytree': 0.7}\n",
      "Model for DE1_dg saved as models\\best_model_DE1_dg.pkl\n",
      "DE1_dg - Accuracy: 0.8327, AUC: 0.7720\n",
      "\n",
      "Processing target variable: DJ4_dg\n",
      "Original class distribution for DJ4_dg: Counter({0.0: 9524, 1.0: 278})\n",
      "After undersampling class distribution for DJ4_dg: Counter({0.0: 834, 1.0: 278})\n",
      "After SMOTE oversampling class distribution for DJ4_dg: Counter({0.0: 834, 1.0: 834})\n",
      "X_balanced type: <class 'pandas.core.frame.DataFrame'>, y_balanced type: <class 'pandas.core.series.Series'>\n",
      "X_balanced shape: (1668, 26), y_balanced shape: (1668,)\n",
      "Fitting 5 folds for each of 50 candidates, totalling 250 fits\n"
     ]
    },
    {
     "name": "stderr",
     "output_type": "stream",
     "text": [
      "C:\\Users\\uesr\\miniconda3\\envs\\finTech2025\\Lib\\site-packages\\xgboost\\core.py:158: UserWarning: [20:50:54] WARNING: D:\\bld\\xgboost-split_1733179550881\\work\\src\\learner.cc:740: \n",
      "Parameters: { \"use_label_encoder\" } are not used.\n",
      "\n",
      "  warnings.warn(smsg, UserWarning)\n"
     ]
    },
    {
     "name": "stdout",
     "output_type": "stream",
     "text": [
      "Best Parameters for DJ4_dg: {'subsample': 0.7, 'n_estimators': 200, 'max_depth': 10, 'learning_rate': 0.01, 'colsample_bytree': 0.7}\n",
      "Model for DJ4_dg saved as models\\best_model_DJ4_dg.pkl\n",
      "DJ4_dg - Accuracy: 0.9184, AUC: 0.5848\n",
      "\n",
      "Processing target variable: DL1_dg\n",
      "Original class distribution for DL1_dg: Counter({0.0: 9472, 1.0: 330})\n",
      "After undersampling class distribution for DL1_dg: Counter({0.0: 990, 1.0: 330})\n",
      "After SMOTE oversampling class distribution for DL1_dg: Counter({0.0: 990, 1.0: 990})\n",
      "X_balanced type: <class 'pandas.core.frame.DataFrame'>, y_balanced type: <class 'pandas.core.series.Series'>\n",
      "X_balanced shape: (1980, 26), y_balanced shape: (1980,)\n",
      "Fitting 5 folds for each of 50 candidates, totalling 250 fits\n"
     ]
    },
    {
     "name": "stderr",
     "output_type": "stream",
     "text": [
      "C:\\Users\\uesr\\miniconda3\\envs\\finTech2025\\Lib\\site-packages\\xgboost\\core.py:158: UserWarning: [20:51:22] WARNING: D:\\bld\\xgboost-split_1733179550881\\work\\src\\learner.cc:740: \n",
      "Parameters: { \"use_label_encoder\" } are not used.\n",
      "\n",
      "  warnings.warn(smsg, UserWarning)\n"
     ]
    },
    {
     "name": "stdout",
     "output_type": "stream",
     "text": [
      "Best Parameters for DL1_dg: {'subsample': 0.8, 'n_estimators': 100, 'max_depth': 10, 'learning_rate': 0.05, 'colsample_bytree': 0.7}\n",
      "Model for DL1_dg saved as models\\best_model_DL1_dg.pkl\n",
      "DL1_dg - Accuracy: 0.8715, AUC: 0.6657\n",
      "\n",
      "Processing target variable: DJ8_dg\n",
      "Original class distribution for DJ8_dg: Counter({0.0: 8406, 1.0: 1396})\n",
      "After undersampling class distribution for DJ8_dg: Counter({0.0: 4188, 1.0: 1396})\n",
      "After SMOTE oversampling class distribution for DJ8_dg: Counter({0.0: 4188, 1.0: 4188})\n",
      "X_balanced type: <class 'pandas.core.frame.DataFrame'>, y_balanced type: <class 'pandas.core.series.Series'>\n",
      "X_balanced shape: (8376, 26), y_balanced shape: (8376,)\n",
      "Fitting 5 folds for each of 50 candidates, totalling 250 fits\n"
     ]
    },
    {
     "name": "stderr",
     "output_type": "stream",
     "text": [
      "C:\\Users\\uesr\\miniconda3\\envs\\finTech2025\\Lib\\site-packages\\xgboost\\core.py:158: UserWarning: [20:52:57] WARNING: D:\\bld\\xgboost-split_1733179550881\\work\\src\\learner.cc:740: \n",
      "Parameters: { \"use_label_encoder\" } are not used.\n",
      "\n",
      "  warnings.warn(smsg, UserWarning)\n"
     ]
    },
    {
     "name": "stdout",
     "output_type": "stream",
     "text": [
      "Best Parameters for DJ8_dg: {'subsample': 0.7, 'n_estimators': 100, 'max_depth': 10, 'learning_rate': 0.05, 'colsample_bytree': 0.7}\n",
      "Model for DJ8_dg saved as models\\best_model_DJ8_dg.pkl\n",
      "DJ8_dg - Accuracy: 0.8164, AUC: 0.6724\n",
      "\n",
      "Processing target variable: DJ6_dg\n",
      "Original class distribution for DJ6_dg: Counter({0.0: 9152, 1.0: 650})\n",
      "After undersampling class distribution for DJ6_dg: Counter({0.0: 1950, 1.0: 650})\n",
      "After SMOTE oversampling class distribution for DJ6_dg: Counter({0.0: 1950, 1.0: 1950})\n",
      "X_balanced type: <class 'pandas.core.frame.DataFrame'>, y_balanced type: <class 'pandas.core.series.Series'>\n",
      "X_balanced shape: (3900, 26), y_balanced shape: (3900,)\n",
      "Fitting 5 folds for each of 50 candidates, totalling 250 fits\n"
     ]
    },
    {
     "name": "stderr",
     "output_type": "stream",
     "text": [
      "C:\\Users\\uesr\\miniconda3\\envs\\finTech2025\\Lib\\site-packages\\xgboost\\core.py:158: UserWarning: [20:53:45] WARNING: D:\\bld\\xgboost-split_1733179550881\\work\\src\\learner.cc:740: \n",
      "Parameters: { \"use_label_encoder\" } are not used.\n",
      "\n",
      "  warnings.warn(smsg, UserWarning)\n"
     ]
    },
    {
     "name": "stdout",
     "output_type": "stream",
     "text": [
      "Best Parameters for DJ6_dg: {'subsample': 0.7, 'n_estimators': 100, 'max_depth': 12, 'learning_rate': 0.01, 'colsample_bytree': 1.0}\n",
      "Model for DJ6_dg saved as models\\best_model_DJ6_dg.pkl\n",
      "DJ6_dg - Accuracy: 0.8539, AUC: 0.6260\n",
      "\n",
      "Processing target variable: DH4_dg\n",
      "Original class distribution for DH4_dg: Counter({0.0: 9225, 1.0: 577})\n",
      "After undersampling class distribution for DH4_dg: Counter({0.0: 1731, 1.0: 577})\n",
      "After SMOTE oversampling class distribution for DH4_dg: Counter({0.0: 1731, 1.0: 1731})\n",
      "X_balanced type: <class 'pandas.core.frame.DataFrame'>, y_balanced type: <class 'pandas.core.series.Series'>\n",
      "X_balanced shape: (3462, 26), y_balanced shape: (3462,)\n",
      "Fitting 5 folds for each of 50 candidates, totalling 250 fits\n"
     ]
    },
    {
     "name": "stderr",
     "output_type": "stream",
     "text": [
      "C:\\Users\\uesr\\miniconda3\\envs\\finTech2025\\Lib\\site-packages\\xgboost\\core.py:158: UserWarning: [20:54:29] WARNING: D:\\bld\\xgboost-split_1733179550881\\work\\src\\learner.cc:740: \n",
      "Parameters: { \"use_label_encoder\" } are not used.\n",
      "\n",
      "  warnings.warn(smsg, UserWarning)\n"
     ]
    },
    {
     "name": "stdout",
     "output_type": "stream",
     "text": [
      "Best Parameters for DH4_dg: {'subsample': 0.7, 'n_estimators': 100, 'max_depth': 10, 'learning_rate': 0.05, 'colsample_bytree': 0.7}\n",
      "Model for DH4_dg saved as models\\best_model_DH4_dg.pkl\n",
      "DH4_dg - Accuracy: 0.8776, AUC: 0.6107\n",
      "\n",
      "Processing target variable: DN1_dg\n",
      "Original class distribution for DN1_dg: Counter({0.0: 9594, 1.0: 208})\n",
      "After undersampling class distribution for DN1_dg: Counter({0.0: 624, 1.0: 208})\n",
      "After SMOTE oversampling class distribution for DN1_dg: Counter({0.0: 624, 1.0: 624})\n",
      "X_balanced type: <class 'pandas.core.frame.DataFrame'>, y_balanced type: <class 'pandas.core.series.Series'>\n",
      "X_balanced shape: (1248, 26), y_balanced shape: (1248,)\n",
      "Fitting 5 folds for each of 50 candidates, totalling 250 fits\n"
     ]
    },
    {
     "name": "stderr",
     "output_type": "stream",
     "text": [
      "C:\\Users\\uesr\\miniconda3\\envs\\finTech2025\\Lib\\site-packages\\xgboost\\core.py:158: UserWarning: [20:54:46] WARNING: D:\\bld\\xgboost-split_1733179550881\\work\\src\\learner.cc:740: \n",
      "Parameters: { \"use_label_encoder\" } are not used.\n",
      "\n",
      "  warnings.warn(smsg, UserWarning)\n"
     ]
    },
    {
     "name": "stdout",
     "output_type": "stream",
     "text": [
      "Best Parameters for DN1_dg: {'subsample': 0.7, 'n_estimators': 200, 'max_depth': 10, 'learning_rate': 0.01, 'colsample_bytree': 0.7}\n",
      "Model for DN1_dg saved as models\\best_model_DN1_dg.pkl\n",
      "DN1_dg - Accuracy: 0.8878, AUC: 0.6055\n",
      "\n",
      "Summary of Results:\n",
      "DI1_dg: Best Params = {'subsample': 1.0, 'n_estimators': 200, 'max_depth': 10, 'learning_rate': 0.05, 'colsample_bytree': 0.7}, Accuracy = 0.7915, AUC = 0.8140\n",
      "DI2_dg: Best Params = {'subsample': 1.0, 'n_estimators': 200, 'max_depth': 12, 'learning_rate': 0.05, 'colsample_bytree': 0.7}, Accuracy = 0.7630, AUC = 0.7530\n",
      "DE1_dg: Best Params = {'subsample': 0.7, 'n_estimators': 100, 'max_depth': 10, 'learning_rate': 0.05, 'colsample_bytree': 0.7}, Accuracy = 0.8327, AUC = 0.7720\n",
      "DJ4_dg: Best Params = {'subsample': 0.7, 'n_estimators': 200, 'max_depth': 10, 'learning_rate': 0.01, 'colsample_bytree': 0.7}, Accuracy = 0.9184, AUC = 0.5848\n",
      "DL1_dg: Best Params = {'subsample': 0.8, 'n_estimators': 100, 'max_depth': 10, 'learning_rate': 0.05, 'colsample_bytree': 0.7}, Accuracy = 0.8715, AUC = 0.6657\n",
      "DJ8_dg: Best Params = {'subsample': 0.7, 'n_estimators': 100, 'max_depth': 10, 'learning_rate': 0.05, 'colsample_bytree': 0.7}, Accuracy = 0.8164, AUC = 0.6724\n",
      "DJ6_dg: Best Params = {'subsample': 0.7, 'n_estimators': 100, 'max_depth': 12, 'learning_rate': 0.01, 'colsample_bytree': 1.0}, Accuracy = 0.8539, AUC = 0.6260\n",
      "DH4_dg: Best Params = {'subsample': 0.7, 'n_estimators': 100, 'max_depth': 10, 'learning_rate': 0.05, 'colsample_bytree': 0.7}, Accuracy = 0.8776, AUC = 0.6107\n",
      "DN1_dg: Best Params = {'subsample': 0.7, 'n_estimators': 200, 'max_depth': 10, 'learning_rate': 0.01, 'colsample_bytree': 0.7}, Accuracy = 0.8878, AUC = 0.6055\n"
     ]
    }
   ],
   "source": [
    "if isinstance(y, pd.Series):\n",
    "    y = y.to_frame()\n",
    "\n",
    "# 각 y 변수별 독립적으로 처리\n",
    "for column in y.columns:\n",
    "    print(f\"\\nProcessing target variable: {column}\")\n",
    "\n",
    "    # 현재 종속 변수 선택\n",
    "    y_current = y[column]\n",
    "\n",
    "    # 학습/테스트 데이터 분리\n",
    "    X_train, X_test, y_train, y_test = train_test_split(\n",
    "        x_cleaned_updated, y_current, test_size=0.2, random_state=42, stratify=y_current\n",
    "    )\n",
    "\n",
    "    # 클래스 분포 확인\n",
    "    print(f\"Original class distribution for {column}: {Counter(y_train)}\")\n",
    "\n",
    "    # 언더샘플링 전략 정의\n",
    "    class_counts = Counter(y_train)\n",
    "    target_majority_class = max(class_counts, key=class_counts.get)\n",
    "    target_minority_class = min(class_counts, key=class_counts.get)\n",
    "\n",
    "    sampling_strategy = {\n",
    "        target_majority_class: class_counts[target_minority_class] * 3,\n",
    "        target_minority_class: class_counts[target_minority_class]\n",
    "    }\n",
    "\n",
    "    # 언더샘플링\n",
    "    under_sampler = RandomUnderSampler(sampling_strategy=sampling_strategy, random_state=42)\n",
    "    X_under, y_under = under_sampler.fit_resample(X_train, y_train)\n",
    "    print(f\"After undersampling class distribution for {column}: {Counter(y_under)}\")\n",
    "\n",
    "    # SMOTE 오버샘플링\n",
    "    smote = SMOTE(sampling_strategy=\"minority\", random_state=42, k_neighbors=3)\n",
    "    X_balanced, y_balanced = smote.fit_resample(X_under, y_under)\n",
    "    \n",
    "    print(f\"After SMOTE oversampling class distribution for {column}: {Counter(y_balanced)}\")\n",
    "    print(f\"X_balanced type: {type(X_balanced)}, y_balanced type: {type(y_balanced)}\")\n",
    "    print(f\"X_balanced shape: {X_balanced.shape}, y_balanced shape: {y_balanced.shape}\")\n",
    "\n",
    "    # RandomizedSearchCV로 하이퍼파라미터 튜닝\n",
    "    grid_search.fit(X_balanced, y_balanced)\n",
    "\n",
    "    # 최적의 하이퍼파라미터 및 모델\n",
    "    best_model = grid_search.best_estimator_\n",
    "    best_params = grid_search.best_params_\n",
    "    print(f\"Best Parameters for {column}: {best_params}\")\n",
    "\n",
    "    # 테스트 데이터 평가\n",
    "    y_pred = best_model.predict(X_test)\n",
    "    y_proba = best_model.predict_proba(X_test)[:, 1]  # 양성 클래스 확률\n",
    "\n",
    "    # 성능 평가\n",
    "    accuracy = accuracy_score(y_test, y_pred)\n",
    "    auc = roc_auc_score(y_test, y_proba)\n",
    "\n",
    "    # 결과 저장\n",
    "    xgboost_results[column] = {\n",
    "        \"best_model\": best_model,\n",
    "        \"best_params\": best_params,\n",
    "        \"accuracy\": accuracy,\n",
    "        \"auc\": auc\n",
    "    }\n",
    "\n",
    "    # 모델 저장 디렉토리 생성\n",
    "    output_dir = \"models\"\n",
    "    os.makedirs(output_dir, exist_ok=True)  # 디렉토리 없으면 생성\n",
    "\n",
    "    # 모델 파일로 저장\n",
    "    model_filename = os.path.join(output_dir, f\"best_model_{column}.pkl\")\n",
    "    joblib.dump(best_model, model_filename)\n",
    "    print(f\"Model for {column} saved as {model_filename}\")\n",
    "\n",
    "    # 출력\n",
    "    print(f\"{column} - Accuracy: {accuracy:.4f}, AUC: {auc:.4f}\")\n",
    "\n",
    "# 최종 결과 출력\n",
    "print(\"\\nSummary of Results:\")\n",
    "for column, result in xgboost_results.items():\n",
    "    print(f\"{column}: Best Params = {result['best_params']}, Accuracy = {result['accuracy']:.4f}, AUC = {result['auc']:.4f}\")\n"
   ]
  },
  {
   "cell_type": "code",
   "execution_count": 63,
   "metadata": {
    "colab": {
     "base_uri": "https://localhost:8080/"
    },
    "executionInfo": {
     "elapsed": 262,
     "status": "ok",
     "timestamp": 1737209868198,
     "user": {
      "displayName": "신동욱",
      "userId": "07395320685930588072"
     },
     "user_tz": -540
    },
    "id": "UlQbQ5vniTfW",
    "outputId": "71d262f4-5f52-4f3b-c74b-410eeffc9e23"
   },
   "outputs": [
    {
     "name": "stdout",
     "output_type": "stream",
     "text": [
      "Loaded model: best_model_DE1_dg from models/best_model_DE1_dg.pkl\n",
      "Loaded model: best_model_DN1_dg from models/best_model_DN1_dg.pkl\n",
      "Loaded model: best_model_DJ8_dg from models/best_model_DJ8_dg.pkl\n",
      "Loaded model: best_model_DH4_dg from models/best_model_DH4_dg.pkl\n",
      "Loaded model: best_model_DL1_dg from models/best_model_DL1_dg.pkl\n",
      "Loaded model: best_model_DI2_dg from models/best_model_DI2_dg.pkl\n",
      "Loaded model: best_model_DJ6_dg from models/best_model_DJ6_dg.pkl\n",
      "Loaded model: best_model_DI1_dg from models/best_model_DI1_dg.pkl\n",
      "Loaded model: best_model_DJ4_dg from models/best_model_DJ4_dg.pkl\n",
      "All models loaded: ['best_model_DE1_dg', 'best_model_DN1_dg', 'best_model_DJ8_dg', 'best_model_DH4_dg', 'best_model_DL1_dg', 'best_model_DI2_dg', 'best_model_DJ6_dg', 'best_model_DI1_dg', 'best_model_DJ4_dg']\n"
     ]
    }
   ],
   "source": [
    "import os\n",
    "import joblib\n",
    "\n",
    "# 저장된 모델 디렉토리\n",
    "model_dir = \"models\"\n",
    "\n",
    "# 로드된 모델을 저장할 딕셔너리\n",
    "loaded_models = {}\n",
    "\n",
    "# 모델 파일 로드\n",
    "for filename in os.listdir(model_dir):\n",
    "    if filename.endswith(\".pkl\"):\n",
    "        model_path = os.path.join(model_dir, filename)\n",
    "        model_name = os.path.splitext(filename)[0]  # 확장자 제거한 이름\n",
    "        loaded_models[model_name] = joblib.load(model_path)\n",
    "        print(f\"Loaded model: {model_name} from {model_path}\")\n",
    "\n",
    "# 확인\n",
    "print(\"All models loaded:\", list(loaded_models.keys()))\n"
   ]
  },
  {
   "cell_type": "markdown",
   "metadata": {
    "id": "ob4Vn3ggCwRy"
   },
   "source": [
    "### 트리모델 시각화  -> 이건 신경 x"
   ]
  },
  {
   "cell_type": "code",
   "execution_count": 66,
   "metadata": {
    "colab": {
     "base_uri": "https://localhost:8080/",
     "height": 406
    },
    "executionInfo": {
     "elapsed": 11226,
     "status": "ok",
     "timestamp": 1737210017304,
     "user": {
      "displayName": "신동욱",
      "userId": "07395320685930588072"
     },
     "user_tz": -540
    },
    "id": "u8ZRFVt-w9Cz",
    "outputId": "4a891e7a-34fa-4685-d70a-4926904caa20"
   },
   "outputs": [
    {
     "data": {
      "image/png": "[encoded data removed]",
      "text/plain": [
       "<Figure size 640x480 with 1 Axes>"
      ]
     },
     "metadata": {},
     "output_type": "display_data"
    }
   ],
   "source": [
    "import xgboost as xgb\n",
    "import matplotlib.pyplot as plt\n",
    "\n",
    "import pickle\n",
    "\n",
    "# 모델 로드 시 변수에 할당하지 않으면 오류 발생\n",
    "with open('models/best_model_DE1_dg.pkl', 'rb') as file:\n",
    "    best_model_DE1_dg = pickle.load(file)\n",
    "\n",
    "# 첫 번째 트리 시각화 (여기서 'num_trees' 파라미터를 설정)\n",
    "xgb.plot_tree(best_model_DE1_dg, num_trees=3)  # rankdir='LR'은 좌에서 우로 트리 그리기\n",
    "plt.show()\n"
   ]
  },
  {
   "cell_type": "code",
   "execution_count": 57,
   "metadata": {
    "colab": {
     "base_uri": "https://localhost:8080/",
     "height": 997
    },
    "executionInfo": {
     "elapsed": 543,
     "status": "error",
     "timestamp": 1737209594211,
     "user": {
      "displayName": "신동욱",
      "userId": "07395320685930588072"
     },
     "user_tz": -540
    },
    "id": "n8GJ9ZEYCxdq",
    "outputId": "a99adc11-cb28-4526-ea2b-23a2da6da5c3"
   },
   "outputs": [
    {
     "name": "stdout",
     "output_type": "stream",
     "text": [
      "Loaded model: best_model_DE1_dg from models/best_model_DE1_dg.pkl\n",
      "Loaded model: best_model_DN1_dg from models/best_model_DN1_dg.pkl\n",
      "Loaded model: best_model_DJ8_dg from models/best_model_DJ8_dg.pkl\n",
      "Loaded model: best_model_DH4_dg from models/best_model_DH4_dg.pkl\n",
      "Loaded model: best_model_DL1_dg from models/best_model_DL1_dg.pkl\n",
      "Loaded model: best_model_DI2_dg from models/best_model_DI2_dg.pkl\n",
      "Loaded model: best_model_DJ6_dg from models/best_model_DJ6_dg.pkl\n",
      "Loaded model: best_model_DI1_dg from models/best_model_DI1_dg.pkl\n",
      "Loaded model: best_model_DJ4_dg from models/best_model_DJ4_dg.pkl\n",
      "Visualizing tree for model: best_model_DE1_dg\n"
     ]
    },
    {
     "ename": "XGBoostError",
     "evalue": "[14:13:14] /workspace/src/tree/tree_model.cc:598: Failed to parse graphviz parameters:\n\t{\"graph_attrs\": {\"rankdir\": \"LR\", \"max_depth\": 3}}\nWith error:\n[14:13:14] /workspace/dmlc-core/include/dmlc/json.h:677: Check failed: ch == '\\\"' (51 vs. \") : Error at Line 0, around ^`}}`, Expect '\"' but get '3'\nStack trace:\n  [bt] (0) /usr/local/lib/python3.11/dist-packages/xgboost/lib/libxgboost.so(+0x22dcbc) [0x7fea2242dcbc]\n  [bt] (1) /usr/local/lib/python3.11/dist-packages/xgboost/lib/libxgboost.so(+0x756640) [0x7fea22956640]\n  [bt] (2) /usr/local/lib/python3.11/dist-packages/xgboost/lib/libxgboost.so(+0x771c0b) [0x7fea22971c0b]\n  [bt] (3) /usr/local/lib/python3.11/dist-packages/xgboost/lib/libxgboost.so(+0x77290a) [0x7fea2297290a]\n  [bt] (4) /usr/local/lib/python3.11/dist-packages/xgboost/lib/libxgboost.so(+0x7531b9) [0x7fea229531b9]\n  [bt] (5) /usr/local/lib/python3.11/dist-packages/xgboost/lib/libxgboost.so(+0x74fa96) [0x7fea2294fa96]\n  [bt] (6) /usr/local/lib/python3.11/dist-packages/xgboost/lib/libxgboost.so(+0x74fdcd) [0x7fea2294fdcd]\n  [bt] (7) /usr/local/lib/python3.11/dist-packages/xgboost/lib/libxgboost.so(+0x58bb44) [0x7fea2278bb44]\n  [bt] (8) /usr/local/lib/python3.11/dist-packages/xgboost/lib/../../xgboost.libs/libgomp-24e2ab19.so.1.0.0(GOMP_parallel+0x46) [0x7fea3e811726]\n\n\nStack trace:\n  [bt] (0) /usr/local/lib/python3.11/dist-packages/xgboost/lib/libxgboost.so(+0x22dcbc) [0x7fea2242dcbc]\n  [bt] (1) /usr/local/lib/python3.11/dist-packages/xgboost/lib/libxgboost.so(+0x77424b) [0x7fea2297424b]\n  [bt] (2) /usr/local/lib/python3.11/dist-packages/xgboost/lib/libxgboost.so(+0x7531b9) [0x7fea229531b9]\n  [bt] (3) /usr/local/lib/python3.11/dist-packages/xgboost/lib/libxgboost.so(+0x74fa96) [0x7fea2294fa96]\n  [bt] (4) /usr/local/lib/python3.11/dist-packages/xgboost/lib/libxgboost.so(+0x74fdcd) [0x7fea2294fdcd]\n  [bt] (5) /usr/local/lib/python3.11/dist-packages/xgboost/lib/libxgboost.so(+0x58bb44) [0x7fea2278bb44]\n  [bt] (6) /usr/local/lib/python3.11/dist-packages/xgboost/lib/../../xgboost.libs/libgomp-24e2ab19.so.1.0.0(GOMP_parallel+0x46) [0x7fea3e811726]\n  [bt] (7) /usr/local/lib/python3.11/dist-packages/xgboost/lib/libxgboost.so(+0x58f745) [0x7fea2278f745]\n  [bt] (8) /usr/local/lib/python3.11/dist-packages/xgboost/lib/libxgboost.so(+0x58fb39) [0x7fea2278fb39]\n\n",
     "output_type": "error",
     "traceback": [
      "\u001b[0;31m---------------------------------------------------------------------------\u001b[0m",
      "\u001b[0;31mXGBoostError\u001b[0m                              Traceback (most recent call last)",
      "\u001b[0;32m<ipython-input-57-6e63a8878ce8>\u001b[0m in \u001b[0;36m<cell line: 0>\u001b[0;34m()\u001b[0m\n\u001b[1;32m     39\u001b[0m \u001b[0;32mfor\u001b[0m \u001b[0mmodel_name\u001b[0m\u001b[0;34m,\u001b[0m \u001b[0mmodel\u001b[0m \u001b[0;32min\u001b[0m \u001b[0mloaded_models\u001b[0m\u001b[0;34m.\u001b[0m\u001b[0mitems\u001b[0m\u001b[0;34m(\u001b[0m\u001b[0;34m)\u001b[0m\u001b[0;34m:\u001b[0m\u001b[0;34m\u001b[0m\u001b[0;34m\u001b[0m\u001b[0m\n\u001b[1;32m     40\u001b[0m     \u001b[0mprint\u001b[0m\u001b[0;34m(\u001b[0m\u001b[0;34mf\"Visualizing tree for model: {model_name}\"\u001b[0m\u001b[0;34m)\u001b[0m\u001b[0;34m\u001b[0m\u001b[0;34m\u001b[0m\u001b[0m\n\u001b[0;32m---> 41\u001b[0;31m     \u001b[0mvisualize_xgboost_tree\u001b[0m\u001b[0;34m(\u001b[0m\u001b[0mmodel\u001b[0m\u001b[0;34m,\u001b[0m \u001b[0mtree_index\u001b[0m\u001b[0;34m=\u001b[0m\u001b[0;36m0\u001b[0m\u001b[0;34m,\u001b[0m \u001b[0moutput_file\u001b[0m\u001b[0;34m=\u001b[0m\u001b[0mmodel_name\u001b[0m\u001b[0;34m)\u001b[0m  \u001b[0;31m# 첫 번째 트리를 시각화\u001b[0m\u001b[0;34m\u001b[0m\u001b[0;34m\u001b[0m\u001b[0m\n\u001b[0m",
      "\u001b[0;32m<ipython-input-57-6e63a8878ce8>\u001b[0m in \u001b[0;36mvisualize_xgboost_tree\u001b[0;34m(model, tree_index, output_file, max_depth, rankdir)\u001b[0m\n\u001b[1;32m     29\u001b[0m     \"\"\"\n\u001b[1;32m     30\u001b[0m     \u001b[0;31m# Graphviz로 트리 생성 (속성 설정 추가)\u001b[0m\u001b[0;34m\u001b[0m\u001b[0;34m\u001b[0m\u001b[0m\n\u001b[0;32m---> 31\u001b[0;31m     \u001b[0mgraph\u001b[0m \u001b[0;34m=\u001b[0m \u001b[0mxgb\u001b[0m\u001b[0;34m.\u001b[0m\u001b[0mto_graphviz\u001b[0m\u001b[0;34m(\u001b[0m\u001b[0mmodel\u001b[0m\u001b[0;34m,\u001b[0m \u001b[0mnum_trees\u001b[0m\u001b[0;34m=\u001b[0m\u001b[0mtree_index\u001b[0m\u001b[0;34m,\u001b[0m \u001b[0mrankdir\u001b[0m\u001b[0;34m=\u001b[0m\u001b[0mrankdir\u001b[0m\u001b[0;34m,\u001b[0m \u001b[0mmax_depth\u001b[0m\u001b[0;34m=\u001b[0m\u001b[0mmax_depth\u001b[0m\u001b[0;34m)\u001b[0m\u001b[0;34m\u001b[0m\u001b[0;34m\u001b[0m\u001b[0m\n\u001b[0m\u001b[1;32m     32\u001b[0m \u001b[0;34m\u001b[0m\u001b[0m\n\u001b[1;32m     33\u001b[0m     \u001b[0;31m# 그래프를 .png 파일로 저장\u001b[0m\u001b[0;34m\u001b[0m\u001b[0;34m\u001b[0m\u001b[0m\n",
      "\u001b[0;32m/usr/local/lib/python3.11/dist-packages/xgboost/plotting.py\u001b[0m in \u001b[0;36mto_graphviz\u001b[0;34m(booster, fmap, num_trees, rankdir, yes_color, no_color, condition_node_params, leaf_node_params, **kwargs)\u001b[0m\n\u001b[1;32m    240\u001b[0m         \u001b[0mparameters\u001b[0m \u001b[0;34m+=\u001b[0m \u001b[0;34m\":\"\u001b[0m\u001b[0;34m\u001b[0m\u001b[0;34m\u001b[0m\u001b[0m\n\u001b[1;32m    241\u001b[0m         \u001b[0mparameters\u001b[0m \u001b[0;34m+=\u001b[0m \u001b[0mjson\u001b[0m\u001b[0;34m.\u001b[0m\u001b[0mdumps\u001b[0m\u001b[0;34m(\u001b[0m\u001b[0mkwargs\u001b[0m\u001b[0;34m)\u001b[0m\u001b[0;34m\u001b[0m\u001b[0;34m\u001b[0m\u001b[0m\n\u001b[0;32m--> 242\u001b[0;31m     \u001b[0mtree\u001b[0m \u001b[0;34m=\u001b[0m \u001b[0mbooster\u001b[0m\u001b[0;34m.\u001b[0m\u001b[0mget_dump\u001b[0m\u001b[0;34m(\u001b[0m\u001b[0mfmap\u001b[0m\u001b[0;34m=\u001b[0m\u001b[0mfmap\u001b[0m\u001b[0;34m,\u001b[0m \u001b[0mdump_format\u001b[0m\u001b[0;34m=\u001b[0m\u001b[0mparameters\u001b[0m\u001b[0;34m)\u001b[0m\u001b[0;34m[\u001b[0m\u001b[0mnum_trees\u001b[0m\u001b[0;34m]\u001b[0m\u001b[0;34m\u001b[0m\u001b[0;34m\u001b[0m\u001b[0m\n\u001b[0m\u001b[1;32m    243\u001b[0m     \u001b[0mg\u001b[0m \u001b[0;34m=\u001b[0m \u001b[0mSource\u001b[0m\u001b[0;34m(\u001b[0m\u001b[0mtree\u001b[0m\u001b[0;34m)\u001b[0m\u001b[0;34m\u001b[0m\u001b[0;34m\u001b[0m\u001b[0m\n\u001b[1;32m    244\u001b[0m     \u001b[0;32mreturn\u001b[0m \u001b[0mg\u001b[0m\u001b[0;34m\u001b[0m\u001b[0;34m\u001b[0m\u001b[0m\n",
      "\u001b[0;32m/usr/local/lib/python3.11/dist-packages/xgboost/core.py\u001b[0m in \u001b[0;36mget_dump\u001b[0;34m(self, fmap, with_stats, dump_format)\u001b[0m\n\u001b[1;32m   2819\u001b[0m         \u001b[0mlength\u001b[0m \u001b[0;34m=\u001b[0m \u001b[0mc_bst_ulong\u001b[0m\u001b[0;34m(\u001b[0m\u001b[0;34m)\u001b[0m\u001b[0;34m\u001b[0m\u001b[0;34m\u001b[0m\u001b[0m\n\u001b[1;32m   2820\u001b[0m         \u001b[0msarr\u001b[0m \u001b[0;34m=\u001b[0m \u001b[0mctypes\u001b[0m\u001b[0;34m.\u001b[0m\u001b[0mPOINTER\u001b[0m\u001b[0;34m(\u001b[0m\u001b[0mctypes\u001b[0m\u001b[0;34m.\u001b[0m\u001b[0mc_char_p\u001b[0m\u001b[0;34m)\u001b[0m\u001b[0;34m(\u001b[0m\u001b[0;34m)\u001b[0m\u001b[0;34m\u001b[0m\u001b[0;34m\u001b[0m\u001b[0m\n\u001b[0;32m-> 2821\u001b[0;31m         _check_call(\n\u001b[0m\u001b[1;32m   2822\u001b[0m             _LIB.XGBoosterDumpModelEx(\n\u001b[1;32m   2823\u001b[0m                 \u001b[0mself\u001b[0m\u001b[0;34m.\u001b[0m\u001b[0mhandle\u001b[0m\u001b[0;34m,\u001b[0m\u001b[0;34m\u001b[0m\u001b[0;34m\u001b[0m\u001b[0m\n",
      "\u001b[0;32m/usr/local/lib/python3.11/dist-packages/xgboost/core.py\u001b[0m in \u001b[0;36m_check_call\u001b[0;34m(ret)\u001b[0m\n\u001b[1;32m    282\u001b[0m     \"\"\"\n\u001b[1;32m    283\u001b[0m     \u001b[0;32mif\u001b[0m \u001b[0mret\u001b[0m \u001b[0;34m!=\u001b[0m \u001b[0;36m0\u001b[0m\u001b[0;34m:\u001b[0m\u001b[0;34m\u001b[0m\u001b[0;34m\u001b[0m\u001b[0m\n\u001b[0;32m--> 284\u001b[0;31m         \u001b[0;32mraise\u001b[0m \u001b[0mXGBoostError\u001b[0m\u001b[0;34m(\u001b[0m\u001b[0mpy_str\u001b[0m\u001b[0;34m(\u001b[0m\u001b[0m_LIB\u001b[0m\u001b[0;34m.\u001b[0m\u001b[0mXGBGetLastError\u001b[0m\u001b[0;34m(\u001b[0m\u001b[0;34m)\u001b[0m\u001b[0;34m)\u001b[0m\u001b[0;34m)\u001b[0m\u001b[0;34m\u001b[0m\u001b[0;34m\u001b[0m\u001b[0m\n\u001b[0m\u001b[1;32m    285\u001b[0m \u001b[0;34m\u001b[0m\u001b[0m\n\u001b[1;32m    286\u001b[0m \u001b[0;34m\u001b[0m\u001b[0m\n",
      "\u001b[0;31mXGBoostError\u001b[0m: [14:13:14] /workspace/src/tree/tree_model.cc:598: Failed to parse graphviz parameters:\n\t{\"graph_attrs\": {\"rankdir\": \"LR\", \"max_depth\": 3}}\nWith error:\n[14:13:14] /workspace/dmlc-core/include/dmlc/json.h:677: Check failed: ch == '\\\"' (51 vs. \") : Error at Line 0, around ^`}}`, Expect '\"' but get '3'\nStack trace:\n  [bt] (0) /usr/local/lib/python3.11/dist-packages/xgboost/lib/libxgboost.so(+0x22dcbc) [0x7fea2242dcbc]\n  [bt] (1) /usr/local/lib/python3.11/dist-packages/xgboost/lib/libxgboost.so(+0x756640) [0x7fea22956640]\n  [bt] (2) /usr/local/lib/python3.11/dist-packages/xgboost/lib/libxgboost.so(+0x771c0b) [0x7fea22971c0b]\n  [bt] (3) /usr/local/lib/python3.11/dist-packages/xgboost/lib/libxgboost.so(+0x77290a) [0x7fea2297290a]\n  [bt] (4) /usr/local/lib/python3.11/dist-packages/xgboost/lib/libxgboost.so(+0x7531b9) [0x7fea229531b9]\n  [bt] (5) /usr/local/lib/python3.11/dist-packages/xgboost/lib/libxgboost.so(+0x74fa96) [0x7fea2294fa96]\n  [bt] (6) /usr/local/lib/python3.11/dist-packages/xgboost/lib/libxgboost.so(+0x74fdcd) [0x7fea2294fdcd]\n  [bt] (7) /usr/local/lib/python3.11/dist-packages/xgboost/lib/libxgboost.so(+0x58bb44) [0x7fea2278bb44]\n  [bt] (8) /usr/local/lib/python3.11/dist-packages/xgboost/lib/../../xgboost.libs/libgomp-24e2ab19.so.1.0.0(GOMP_parallel+0x46) [0x7fea3e811726]\n\n\nStack trace:\n  [bt] (0) /usr/local/lib/python3.11/dist-packages/xgboost/lib/libxgboost.so(+0x22dcbc) [0x7fea2242dcbc]\n  [bt] (1) /usr/local/lib/python3.11/dist-packages/xgboost/lib/libxgboost.so(+0x77424b) [0x7fea2297424b]\n  [bt] (2) /usr/local/lib/python3.11/dist-packages/xgboost/lib/libxgboost.so(+0x7531b9) [0x7fea229531b9]\n  [bt] (3) /usr/local/lib/python3.11/dist-packages/xgboost/lib/libxgboost.so(+0x74fa96) [0x7fea2294fa96]\n  [bt] (4) /usr/local/lib/python3.11/dist-packages/xgboost/lib/libxgboost.so(+0x74fdcd) [0x7fea2294fdcd]\n  [bt] (5) /usr/local/lib/python3.11/dist-packages/xgboost/lib/libxgboost.so(+0x58bb44) [0x7fea2278bb44]\n  [bt] (6) /usr/local/lib/python3.11/dist-packages/xgboost/lib/../../xgboost.libs/libgomp-24e2ab19.so.1.0.0(GOMP_parallel+0x46) [0x7fea3e811726]\n  [bt] (7) /usr/local/lib/python3.11/dist-packages/xgboost/lib/libxgboost.so(+0x58f745) [0x7fea2278f745]\n  [bt] (8) /usr/local/lib/python3.11/dist-packages/xgboost/lib/libxgboost.so(+0x58fb39) [0x7fea2278fb39]\n\n"
     ]
    }
   ],
   "source": [
    "import os\n",
    "import joblib\n",
    "import xgboost as xgb\n",
    "import graphviz\n",
    "\n",
    "# 모델 디렉토리\n",
    "model_dir = \"models\"\n",
    "\n",
    "# 로드된 모델을 저장할 딕셔너리\n",
    "loaded_models = {}\n",
    "\n",
    "# 모델 파일 로드\n",
    "for filename in os.listdir(model_dir):\n",
    "    if filename.endswith(\".pkl\"):\n",
    "        model_path = os.path.join(model_dir, filename)\n",
    "        model_name = os.path.splitext(filename)[0]  # 확장자 제거한 이름\n",
    "        loaded_models[model_name] = joblib.load(model_path)\n",
    "        print(f\"Loaded model: {model_name} from {model_path}\")\n",
    "\n",
    "# 트리 시각화 함수\n",
    "def visualize_xgboost_tree(model, tree_index=0, output_file=\"tree_output\", max_depth=3, rankdir='LR'):\n",
    "    \"\"\"\n",
    "    XGBoost 모델의 트리를 시각화하여 PNG 파일로 저장.\n",
    "    :param model: XGBoost 모델\n",
    "    :param tree_index: 시각화할 트리의 인덱스\n",
    "    :param output_file: 저장할 파일 이름 (파일 형식은 .png)\n",
    "    :param max_depth: 트리의 최대 깊이\n",
    "    :param rankdir: 트리 레이아웃 (LR: Left-Right)\n",
    "    \"\"\"\n",
    "    # Graphviz로 트리 생성 (속성 설정 추가)\n",
    "    graph = xgb.to_graphviz(model, num_trees=tree_index, rankdir=rankdir, max_depth=max_depth)\n",
    "\n",
    "    # 그래프를 .png 파일로 저장\n",
    "    output_path = f\"{output_file}.png\"\n",
    "    graph.render(output_path, format='png', view=True)  # 파일을 .png 형식으로 저장하고 열기\n",
    "    print(f\"Tree visualized and saved to {os.path.abspath(output_path)}\")\n",
    "\n",
    "# 모든 모델에 대해 트리 시각화\n",
    "for model_name, model in loaded_models.items():\n",
    "    print(f\"Visualizing tree for model: {model_name}\")\n",
    "    visualize_xgboost_tree(model, tree_index=0, output_file=model_name)  # 첫 번째 트리를 시각화\n"
   ]
  },
  {
   "cell_type": "markdown",
   "metadata": {
    "id": "J4qmecUVsA0A"
   },
   "source": [
    "### 예측"
   ]
  },
  {
   "cell_type": "code",
   "execution_count": 34,
   "metadata": {
    "executionInfo": {
     "elapsed": 261,
     "status": "ok",
     "timestamp": 1737208855817,
     "user": {
      "displayName": "신동욱",
      "userId": "07395320685930588072"
     },
     "user_tz": -540
    },
    "id": "0w1bbSx3t3Qs"
   },
   "outputs": [],
   "source": [
    "# 예측할 데이터 준비\n",
    "# allownc, npins, EC_occp, HE_obe, BD1_11, BD2_14, BP16_1, BP16_2, BS3_1, BE5_1 등의 컬럼은 주어진 대로 설정\n",
    "# 나머지 컬럼은 랜덤하게 0 또는 1을 선택합니다.\n",
    "\n",
    "training_columns = ['allownc', 'npins', 'EC_occp', 'HE_obe', 'BD1_11', 'BD2_14', 'BP16_1', 'BP16_2',\n",
    "                    'BS3_1', 'BE5_1', 'HE_fh', 'HE_HPfh1', 'HE_HPfh2', 'HE_HPfh3', 'HE_HLfh1', 'HE_HLfh2',\n",
    "                    'HE_HLfh3', 'HE_IHDfh1', 'HE_IHDfh2', 'HE_IHDfh3', 'HE_STRfh1', 'HE_STRfh2', 'HE_STRfh3',\n",
    "                    'HE_DMfh1', 'HE_DMfh2', 'HE_DMfh3']  # 훈련 데이터 컬럼 예시\n",
    "\n",
    "# 예측할 데이터의 컬럼 설정 (일부 예시 컬럼만 추가)\n",
    "input_data = {\n",
    "    'allownc': [0],\n",
    "    'npins': [1],\n",
    "    'EC_occp': [2],\n",
    "    'HE_obe': [4],\n",
    "    'BD1_11': [2],\n",
    "    'BD2_14': [1],\n",
    "    'BP16_1': [8],\n",
    "    'BP16_2': [6],\n",
    "    'BS3_1': [1],\n",
    "    'BE5_1': [4]\n",
    "}\n",
    "\n",
    "# 나머지 컬럼들을 랜덤값으로 추가 (훈련 데이터에서 필요한 컬럼만 추가)\n",
    "for col in training_columns[10:]:  # 필요한 컬럼들만 랜덤으로 채우기\n",
    "    input_data[col] = [random.choice([0, 1])]\n",
    "\n",
    "# 예측 데이터프레임으로 변환\n",
    "X_new = pd.DataFrame(input_data)\n",
    "\n",
    "# 훈련 데이터에서 사용한 컬럼 순서로 맞추기\n",
    "X_new = X_new[training_columns]\n"
   ]
  },
  {
   "cell_type": "code",
   "execution_count": 67,
   "metadata": {
    "colab": {
     "base_uri": "https://localhost:8080/"
    },
    "executionInfo": {
     "elapsed": 465,
     "status": "ok",
     "timestamp": 1737210182356,
     "user": {
      "displayName": "신동욱",
      "userId": "07395320685930588072"
     },
     "user_tz": -540
    },
    "id": "_ePif0iStXVy",
    "outputId": "8383352c-343d-4504-da90-d0b69e0d8361"
   },
   "outputs": [
    {
     "name": "stdout",
     "output_type": "stream",
     "text": [
      "Loaded model: best_model_DE1_dg from models/best_model_DE1_dg.pkl\n",
      "Loaded model: best_model_DN1_dg from models/best_model_DN1_dg.pkl\n",
      "Loaded model: best_model_DJ8_dg from models/best_model_DJ8_dg.pkl\n",
      "Loaded model: best_model_DH4_dg from models/best_model_DH4_dg.pkl\n",
      "Loaded model: best_model_DL1_dg from models/best_model_DL1_dg.pkl\n",
      "Loaded model: best_model_DI2_dg from models/best_model_DI2_dg.pkl\n",
      "Loaded model: best_model_DJ6_dg from models/best_model_DJ6_dg.pkl\n",
      "Loaded model: best_model_DI1_dg from models/best_model_DI1_dg.pkl\n",
      "Loaded model: best_model_DJ4_dg from models/best_model_DJ4_dg.pkl\n",
      "Model: best_model_DE1_dg\n",
      "예측된 클래스: [1]\n",
      "해당 질병에 걸릴 확률: [0.7046831]\n",
      "--------------------------------------------------\n",
      "Model: best_model_DN1_dg\n",
      "예측된 클래스: [0]\n",
      "해당 질병에 걸릴 확률: [0.45323777]\n",
      "--------------------------------------------------\n",
      "Model: best_model_DJ8_dg\n",
      "예측된 클래스: [0]\n",
      "해당 질병에 걸릴 확률: [0.20979656]\n",
      "--------------------------------------------------\n",
      "Model: best_model_DH4_dg\n",
      "예측된 클래스: [0]\n",
      "해당 질병에 걸릴 확률: [0.31197417]\n",
      "--------------------------------------------------\n",
      "Model: best_model_DL1_dg\n",
      "예측된 클래스: [0]\n",
      "해당 질병에 걸릴 확률: [0.33500305]\n",
      "--------------------------------------------------\n",
      "Model: best_model_DI2_dg\n",
      "예측된 클래스: [1]\n",
      "해당 질병에 걸릴 확률: [0.70917845]\n",
      "--------------------------------------------------\n",
      "Model: best_model_DJ6_dg\n",
      "예측된 클래스: [0]\n",
      "해당 질병에 걸릴 확률: [0.45881513]\n",
      "--------------------------------------------------\n",
      "Model: best_model_DI1_dg\n",
      "예측된 클래스: [0]\n",
      "해당 질병에 걸릴 확률: [0.41603836]\n",
      "--------------------------------------------------\n",
      "Model: best_model_DJ4_dg\n",
      "예측된 클래스: [0]\n",
      "해당 질병에 걸릴 확률: [0.29629496]\n",
      "--------------------------------------------------\n",
      "\n",
      "Final Predictions:\n",
      "best_model_DE1_dg - Predicted Classes: [1]\n",
      "best_model_DE1_dg - Positive Class Probabilities: [0.7046831]\n",
      "best_model_DN1_dg - Predicted Classes: [0]\n",
      "best_model_DN1_dg - Positive Class Probabilities: [0.45323777]\n",
      "best_model_DJ8_dg - Predicted Classes: [0]\n",
      "best_model_DJ8_dg - Positive Class Probabilities: [0.20979656]\n",
      "best_model_DH4_dg - Predicted Classes: [0]\n",
      "best_model_DH4_dg - Positive Class Probabilities: [0.31197417]\n",
      "best_model_DL1_dg - Predicted Classes: [0]\n",
      "best_model_DL1_dg - Positive Class Probabilities: [0.33500305]\n",
      "best_model_DI2_dg - Predicted Classes: [1]\n",
      "best_model_DI2_dg - Positive Class Probabilities: [0.70917845]\n",
      "best_model_DJ6_dg - Predicted Classes: [0]\n",
      "best_model_DJ6_dg - Positive Class Probabilities: [0.45881513]\n",
      "best_model_DI1_dg - Predicted Classes: [0]\n",
      "best_model_DI1_dg - Positive Class Probabilities: [0.41603836]\n",
      "best_model_DJ4_dg - Predicted Classes: [0]\n",
      "best_model_DJ4_dg - Positive Class Probabilities: [0.29629496]\n"
     ]
    }
   ],
   "source": [
    "import os\n",
    "import joblib\n",
    "\n",
    "# 저장된 모델 디렉토리\n",
    "model_dir = \"models\"\n",
    "\n",
    "# 로드된 모델을 저장할 딕셔너리\n",
    "loaded_models = {}\n",
    "\n",
    "# 모델 파일 로드\n",
    "for filename in os.listdir(model_dir):\n",
    "    if filename.endswith(\".pkl\"):\n",
    "        model_path = os.path.join(model_dir, filename)\n",
    "        model_name = os.path.splitext(filename)[0]  # 확장자 제거한 이름\n",
    "        loaded_models[model_name] = joblib.load(model_path)\n",
    "        print(f\"Loaded model: {model_name} from {model_path}\")\n",
    "\n",
    "# 모델 불러오기\n",
    "loaded_models[model_name] = joblib.load(model_path)\n",
    "\n",
    "# 예측 결과 저장 딕셔너리\n",
    "predictions = {}\n",
    "\n",
    "# 로드된 모델을 사용하여 예측 수행\n",
    "for model_name, model in loaded_models.items():\n",
    "    # 예측 수행\n",
    "    y_pred = model.predict(X_new)  # 예측된 클래스\n",
    "    y_proba = model.predict_proba(X_new)[:, 1]  # 양성 클래스 확률\n",
    "\n",
    "    # 결과 저장\n",
    "    predictions[model_name] = {\n",
    "        \"predicted_class\": y_pred,\n",
    "        \"positive_class_prob\": y_proba\n",
    "    }\n",
    "\n",
    "    # 결과 출력\n",
    "    print(f\"Model: {model_name}\")\n",
    "    print(\"예측된 클래스:\", y_pred)\n",
    "    print(\"해당 질병에 걸릴 확률:\", y_proba)\n",
    "    print(\"-\" * 50)\n",
    "\n",
    "# 최종 결과 확인\n",
    "print(\"\\nFinal Predictions:\")\n",
    "for model_name, result in predictions.items():\n",
    "    print(f\"{model_name} - Predicted Classes: {result['predicted_class']}\")\n",
    "    print(f\"{model_name} - Positive Class Probabilities: {result['positive_class_prob']}\")\n"
   ]
  }
 ],
 "metadata": {
  "colab": {
   "authorship_tag": "ABX9TyORfR4b+1eugsyRYgemIIF5",
   "collapsed_sections": [
    "KaaLW3gGpDk5",
    "4U7ztdX0JQz9"
   ],
   "provenance": []
  },
  "kernelspec": {
   "display_name": "fintech2025",
   "language": "python",
   "name": "fintech2025"
  },
  "language_info": {
   "codemirror_mode": {
    "name": "ipython",
    "version": 3
   },
   "file_extension": ".py",
   "mimetype": "text/x-python",
   "name": "python",
   "nbconvert_exporter": "python",
   "pygments_lexer": "ipython3",
   "version": "3.13.1"
  }
 },
 "nbformat": 4,
 "nbformat_minor": 4
}
