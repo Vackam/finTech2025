{
 "cells": [
  {
   "cell_type": "code",
   "execution_count": null,
   "id": "7f38a957-4e11-4e8a-b695-2929d7dff9b8",
   "metadata": {},
   "outputs": [],
   "source": []
  }
 ],
 "metadata": {
  "kernelspec": {
   "display_name": "",
   "name": ""
  },
  "language_info": {
   "name": ""
  }
 },
 "nbformat": 4,
 "nbformat_minor": 5
}
