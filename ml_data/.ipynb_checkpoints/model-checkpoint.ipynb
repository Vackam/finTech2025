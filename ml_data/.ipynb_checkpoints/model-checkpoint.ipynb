{
 "cells": [
  {
   "cell_type": "code",
   "execution_count": 1,
   "metadata": {},
   "outputs": [
    {
     "name": "stdout",
     "output_type": "stream",
     "text": [
      "Requirement already satisfied: scikit-learn in c:\\python312\\lib\\site-packages (1.5.0)\n",
      "Requirement already satisfied: numpy>=1.19.5 in c:\\python312\\lib\\site-packages (from scikit-learn) (1.26.4)\n",
      "Requirement already satisfied: scipy>=1.6.0 in c:\\python312\\lib\\site-packages (from scikit-learn) (1.13.1)\n",
      "Requirement already satisfied: joblib>=1.2.0 in c:\\python312\\lib\\site-packages (from scikit-learn) (1.4.2)\n",
      "Requirement already satisfied: threadpoolctl>=3.1.0 in c:\\python312\\lib\\site-packages (from scikit-learn) (3.5.0)\n",
      "Note: you may need to restart the kernel to use updated packages.\n"
     ]
    },
    {
     "name": "stderr",
     "output_type": "stream",
     "text": [
      "\n",
      "[notice] A new release of pip is available: 24.0 -> 24.3.1\n",
      "[notice] To update, run: C:\\Python312\\python.exe -m pip install --upgrade pip\n"
     ]
    }
   ],
   "source": [
    "pip install scikit-learn"
   ]
  },
  {
   "cell_type": "code",
   "execution_count": null,
   "metadata": {},
   "outputs": [],
   "source": [
    "from sklearn.model_selection import train_test_split"
   ]
  },
  {
   "cell_type": "code",
   "execution_count": null,
   "metadata": {
    "executionInfo": {
     "elapsed": 4880,
     "status": "ok",
     "timestamp": 1736672366317,
     "user": {
      "displayName": "신동욱",
      "userId": "07395320685930588072"
     },
     "user_tz": -540
    },
    "id": "OgxUF6pAvJQ7"
   },
   "outputs": [],
   "source": [
    "import pandas as pd\n",
    "import numpy as np\n",
    "import os\n",
    "import matplotlib\n",
    "import matplotlib.pyplot as plt\n",
    "import scipy.stats as spst"
   ]
  },
  {
   "cell_type": "code",
   "execution_count": 6,
   "metadata": {
    "executionInfo": {
     "elapsed": 3990,
     "status": "ok",
     "timestamp": 1736672391827,
     "user": {
      "displayName": "신동욱",
      "userId": "07395320685930588072"
     },
     "user_tz": -540
    },
    "id": "ZumHA8sWvUz3"
   },
   "outputs": [],
   "source": [
    "pd_sas22 = pd.read_sas('./data_set1.sas7bdat', format='sas7bdat')\n",
    "pd_sas23 = pd.read_sas('./data_set2.sas7bdat', format='sas7bdat')"
   ]
  },
  {
   "cell_type": "code",
   "execution_count": 7,
   "metadata": {
    "colab": {
     "base_uri": "https://localhost:8080/"
    },
    "executionInfo": {
     "elapsed": 5,
     "status": "ok",
     "timestamp": 1736672391828,
     "user": {
      "displayName": "신동욱",
      "userId": "07395320685930588072"
     },
     "user_tz": -540
    },
    "id": "7LQvhakwvYhc",
    "outputId": "c3facd15-43f2-4827-d76d-03da3d38ca8b"
   },
   "outputs": [
    {
     "name": "stdout",
     "output_type": "stream",
     "text": [
      "<class 'pandas.core.frame.DataFrame'>\n",
      "RangeIndex: 13194 entries, 0 to 13193\n",
      "Columns: 675 entries, mod_d to LF_SECUR_Y\n",
      "dtypes: float64(632), object(43)\n",
      "memory usage: 67.9+ MB\n"
     ]
    }
   ],
   "source": [
    "df_merged=pd.concat([pd_sas22, pd_sas23], ignore_index=True)\n",
    "df_merged.info()"
   ]
  },
  {
   "cell_type": "code",
   "execution_count": 8,
   "metadata": {
    "colab": {
     "base_uri": "https://localhost:8080/"
    },
    "executionInfo": {
     "elapsed": 304,
     "status": "ok",
     "timestamp": 1736672395015,
     "user": {
      "displayName": "신동욱",
      "userId": "07395320685930588072"
     },
     "user_tz": -540
    },
    "id": "BsWcks3_vaVf",
    "outputId": "dadcb53a-37fd-4cd5-eaa1-892b11efba15"
   },
   "outputs": [
    {
     "name": "stdout",
     "output_type": "stream",
     "text": [
      "     DI1_dg  DI2_dg  DE1_dg  DJ4_dg  DL1_dg  DJ8_dg  DJ6_dg  DH4_dg  DN1_dg\n",
      "0.0    8019    8283    9853    9946    9882    8549    9481    9573   10034\n",
      "1.0    3206    2942    1372     348     412    1745     813     721     260\n",
      "8.0    1959    1959    1959    1959    1959    1959    1959    1959    1959\n",
      "9.0       1       1       1     932     932     932     932     932     932\n"
     ]
    }
   ],
   "source": [
    "# 질병(종속변수)의 변수명이 D로 시작하고 dg로 끝남\n",
    "dependent_columns = [col for col in df_merged.columns if col.startswith('D') and col.endswith('dg')]\n",
    "\n",
    "# 종속변수의 데이터 분포 확인\n",
    "disease_value_counts = df_merged[dependent_columns].apply(lambda x: x.value_counts())\n",
    "\n",
    "# 결과 출력\n",
    "print(disease_value_counts)"
   ]
  },
  {
   "cell_type": "code",
   "execution_count": 9,
   "metadata": {
    "colab": {
     "base_uri": "https://localhost:8080/"
    },
    "executionInfo": {
     "elapsed": 324,
     "status": "ok",
     "timestamp": 1736672406087,
     "user": {
      "displayName": "신동욱",
      "userId": "07395320685930588072"
     },
     "user_tz": -540
    },
    "id": "iLZZiMmmvc8F",
    "outputId": "434b722c-0c4d-4ed0-99bb-9c43e458d0f1"
   },
   "outputs": [
    {
     "name": "stdout",
     "output_type": "stream",
     "text": [
      "     DI1_dg  DI2_dg  DE1_dg  DJ4_dg  DL1_dg  DJ8_dg  DJ6_dg  DH4_dg  DN1_dg\n",
      "0.0    9358    9550   11038   11905   11841   10508   11440   11532   11993\n",
      "1.0    2895    2703    1215     348     412    1745     813     721     260\n"
     ]
    }
   ],
   "source": [
    "# 8은 0으로 대체\n",
    "df_merged[dependent_columns] = df_merged[dependent_columns].replace(8, 0)\n",
    "\n",
    "# 9는 삭제\n",
    "df_merged = df_merged[~(df_merged[dependent_columns] == 9).any(axis=1)]\n",
    "\n",
    "disease_value_counts = df_merged[dependent_columns].apply(lambda x: x.value_counts())\n",
    "\n",
    "# 결과 확인\n",
    "print(disease_value_counts)"
   ]
  },
  {
   "cell_type": "markdown",
   "metadata": {
    "id": "thdi6MedviV3"
   },
   "source": [
    "## 결측치 처리"
   ]
  },
  {
   "cell_type": "code",
   "execution_count": 10,
   "metadata": {
    "colab": {
     "base_uri": "https://localhost:8080/",
     "height": 366
    },
    "executionInfo": {
     "elapsed": 463,
     "status": "ok",
     "timestamp": 1736672439647,
     "user": {
      "displayName": "신동욱",
      "userId": "07395320685930588072"
     },
     "user_tz": -540
    },
    "id": "2fss-lTWvh-E",
    "outputId": "b5383997-4915-4871-d79f-217267a3ba46"
   },
   "outputs": [
    {
     "data": {
      "text/plain": [
       "DI1_dg    9\n",
       "DI2_dg    9\n",
       "DE1_dg    9\n",
       "DJ4_dg    9\n",
       "DL1_dg    9\n",
       "DJ8_dg    9\n",
       "DJ6_dg    9\n",
       "DH4_dg    9\n",
       "DN1_dg    9\n",
       "dtype: int64"
      ]
     },
     "execution_count": 10,
     "metadata": {},
     "output_type": "execute_result"
    }
   ],
   "source": [
    "# 종속변수의 결측치 확인\n",
    "df_merged[dependent_columns].isnull().sum()"
   ]
  },
  {
   "cell_type": "code",
   "execution_count": 11,
   "metadata": {
    "colab": {
     "base_uri": "https://localhost:8080/",
     "height": 366
    },
    "executionInfo": {
     "elapsed": 12,
     "status": "ok",
     "timestamp": 1736672439647,
     "user": {
      "displayName": "신동욱",
      "userId": "07395320685930588072"
     },
     "user_tz": -540
    },
    "id": "C95nTEn4vmZ0",
    "outputId": "6f321774-faa4-4be4-f1cc-97ce04e7b666"
   },
   "outputs": [
    {
     "data": {
      "text/plain": [
       "DI1_dg    0\n",
       "DI2_dg    0\n",
       "DE1_dg    0\n",
       "DJ4_dg    0\n",
       "DL1_dg    0\n",
       "DJ8_dg    0\n",
       "DJ6_dg    0\n",
       "DH4_dg    0\n",
       "DN1_dg    0\n",
       "dtype: int64"
      ]
     },
     "execution_count": 11,
     "metadata": {},
     "output_type": "execute_result"
    }
   ],
   "source": [
    "# 종속변수가 결측치인 행 삭제\n",
    "df_merged = df_merged.dropna(subset=dependent_columns)\n",
    "\n",
    "df_merged[dependent_columns].isnull().sum()\n"
   ]
  },
  {
   "cell_type": "code",
   "execution_count": 12,
   "metadata": {
    "colab": {
     "base_uri": "https://localhost:8080/",
     "height": 458
    },
    "executionInfo": {
     "elapsed": 518,
     "status": "ok",
     "timestamp": 1736672444990,
     "user": {
      "displayName": "신동욱",
      "userId": "07395320685930588072"
     },
     "user_tz": -540
    },
    "id": "0c71pj95vntB",
    "outputId": "03db6428-14f6-4cba-df79-5c195d90a970"
   },
   "outputs": [
    {
     "data": {
      "text/plain": [
       "AC8_1e_01      12253\n",
       "HE_CNfh22_4    12253\n",
       "AC8_1e_02      12253\n",
       "AC8_1e_03      12253\n",
       "HE_CNfh12_4    12253\n",
       "               ...  \n",
       "BP1                0\n",
       "BP5                0\n",
       "BP6_10             0\n",
       "BP6_2              0\n",
       "mod_d              0\n",
       "Length: 675, dtype: int64"
      ]
     },
     "execution_count": 12,
     "metadata": {},
     "output_type": "execute_result"
    }
   ],
   "source": [
    "# 남은 변수의 결측치 확인\n",
    "df_merged.isnull().sum().sort_values(ascending=False)"
   ]
  },
  {
   "cell_type": "code",
   "execution_count": 13,
   "metadata": {
    "colab": {
     "base_uri": "https://localhost:8080/"
    },
    "executionInfo": {
     "elapsed": 272,
     "status": "ok",
     "timestamp": 1736672459464,
     "user": {
      "displayName": "신동욱",
      "userId": "07395320685930588072"
     },
     "user_tz": -540
    },
    "id": "zPPaR0qyvpks",
    "outputId": "ed43e9dd-a9d0-4f2f-a2ae-8afc1a881a8d"
   },
   "outputs": [],
   "source": [
    "# 결측치가 있는 컬럼 모두 삭제\n",
    "df_merged = df_merged.dropna(axis=1, how='any')\n",
    "\n",
    "# 가중치 컬럼 삭제\n",
    "df_merged = df_merged.loc[:, ~df_merged.columns.str.startswith('wt')]\n",
    "\n"
   ]
  },
  {
   "cell_type": "code",
   "execution_count": 14,
   "metadata": {
    "colab": {
     "base_uri": "https://localhost:8080/"
    },
    "executionInfo": {
     "elapsed": 9,
     "status": "ok",
     "timestamp": 1736672464692,
     "user": {
      "displayName": "신동욱",
      "userId": "07395320685930588072"
     },
     "user_tz": -540
    },
    "id": "lYQq8K4Nvsc_",
    "outputId": "b41d528f-bbd7-4565-9dd8-c9f8b04da6a1"
   },
   "outputs": [
    {
     "data": {
      "text/plain": [
       "Index(['mod_d', 'ID', 'ID_fam', 'psu'], dtype='object')"
      ]
     },
     "execution_count": 14,
     "metadata": {},
     "output_type": "execute_result"
    }
   ],
   "source": [
    "# 범주형 컬럼 확인\n",
    "object_columns = df_merged.select_dtypes(include=[object]).columns\n",
    "object_columns\n"
   ]
  },
  {
   "cell_type": "code",
   "execution_count": 15,
   "metadata": {
    "colab": {
     "base_uri": "https://localhost:8080/",
     "height": 351
    },
    "executionInfo": {
     "elapsed": 1113,
     "status": "error",
     "timestamp": 1736672480223,
     "user": {
      "displayName": "신동욱",
      "userId": "07395320685930588072"
     },
     "user_tz": -540
    },
    "id": "jLkRfFsfvtqp",
    "outputId": "f2716b68-b4bc-437d-a0ea-8d83f0eb489a"
   },
   "outputs": [
    {
     "data": {
      "text/plain": [
       "year       0\n",
       "BS12_36    0\n",
       "BS6_4_2    0\n",
       "BS12_37    0\n",
       "BS12_47    0\n",
       "          ..\n",
       "BO1        0\n",
       "BO1_1      0\n",
       "BO1_2      0\n",
       "BO1_3      0\n",
       "BM14_1     0\n",
       "Length: 217, dtype: int64"
      ]
     },
     "execution_count": 15,
     "metadata": {},
     "output_type": "execute_result"
    }
   ],
   "source": [
    "# 범주형 컬럼은 질병의 유무와 관련이 적음, 범주형 컬럼 삭제\n",
    "df_merged = df_merged.drop(columns=object_columns)\n",
    "\n",
    "df_merged.isnull().sum().sort_values(ascending=False)"
   ]
  },
  {
   "cell_type": "code",
   "execution_count": 16,
   "metadata": {
    "colab": {
     "base_uri": "https://localhost:8080/"
    },
    "executionInfo": {
     "elapsed": 319,
     "status": "ok",
     "timestamp": 1736672486778,
     "user": {
      "displayName": "신동욱",
      "userId": "07395320685930588072"
     },
     "user_tz": -540
    },
    "id": "u3HHXce1vvMA",
    "outputId": "36492aab-ba96-4c95-a381-9ad69e4ac02a"
   },
   "outputs": [
    {
     "name": "stdout",
     "output_type": "stream",
     "text": [
      "<class 'pandas.core.frame.DataFrame'>\n",
      "Index: 12253 entries, 0 to 13193\n",
      "Columns: 217 entries, year to BM14_1\n",
      "dtypes: float64(217)\n",
      "memory usage: 20.4 MB\n"
     ]
    }
   ],
   "source": [
    "df_merged.info()"
   ]
  },
  {
   "cell_type": "markdown",
   "metadata": {
    "id": "jtQeDVvxv0RY"
   },
   "source": [
    "### 모델"
   ]
  },
  {
   "cell_type": "code",
   "execution_count": 17,
   "metadata": {
    "executionInfo": {
     "elapsed": 324,
     "status": "ok",
     "timestamp": 1736672502498,
     "user": {
      "displayName": "신동욱",
      "userId": "07395320685930588072"
     },
     "user_tz": -540
    },
    "id": "0_LvvHgpv1Nm"
   },
   "outputs": [],
   "source": [
    "# 독립변수와 종속변수로 나누기\n",
    "y = df_merged[dependent_columns].copy()\n",
    "x = df_merged.drop(columns=dependent_columns).copy()"
   ]
  },
  {
   "cell_type": "code",
   "execution_count": 18,
   "metadata": {
    "colab": {
     "base_uri": "https://localhost:8080/",
     "height": 487
    },
    "executionInfo": {
     "elapsed": 2066,
     "status": "ok",
     "timestamp": 1736672535171,
     "user": {
      "displayName": "신동욱",
      "userId": "07395320685930588072"
     },
     "user_tz": -540
    },
    "id": "Q9AdBfmlv6ZZ",
    "outputId": "a482df7c-03a6-43a7-e587-19fe6639c19c"
   },
   "outputs": [
    {
     "data": {
      "image/png": "[encoded data removed]",
      "text/plain": [
       "<Figure size 800x500 with 1 Axes>"
      ]
     },
     "metadata": {},
     "output_type": "display_data"
    }
   ],
   "source": [
    "from sklearn.decomposition import PCA\n",
    "from sklearn.preprocessing import StandardScaler\n",
    "import numpy as np\n",
    "import matplotlib.pyplot as plt\n",
    "\n",
    "# 1. 데이터 표준화\n",
    "scaler_sta = StandardScaler()\n",
    "x_scaled_sta = scaler_sta.fit_transform(x)\n",
    "\n",
    "# 2. PCA 수행\n",
    "pca = PCA()\n",
    "pca.fit(x_scaled_sta)\n",
    "\n",
    "# 3. Scree Plot 및 누적 비율 그래프\n",
    "explained_variance = pca.explained_variance_ratio_\n",
    "cumulative_variance = np.cumsum(explained_variance)  # 누적 비율 계산\n",
    "\n",
    "# 그래프 그리기\n",
    "plt.figure(figsize=(8, 5))\n",
    "plt.plot(range(1, len(explained_variance) + 1), explained_variance, marker='o', linestyle='--', label='Explained Variance')\n",
    "plt.plot(range(1, len(cumulative_variance) + 1), cumulative_variance, marker='o', linestyle='-', label='Cumulative Variance')\n",
    "plt.title('Scree Plot and Cumulative Variance')\n",
    "plt.xlabel('Number of Principal Components')\n",
    "plt.ylabel('Variance Ratio')\n",
    "plt.axhline(y=0.9, color='r', linestyle='--', label='90% Explained')  # 90% 라인 표시\n",
    "plt.xlim(0, 10)  # X축 제한\n",
    "plt.legend()\n",
    "plt.grid()\n",
    "plt.show()\n",
    "\n",
    "# 주성분이 2개일 때 꺽인 점이 확인되었지만 전체 분산의 40% 미만만을 설명해주고 있음. -> 스케일링 방식을 바꿔?"
   ]
  },
  {
   "cell_type": "code",
   "execution_count": 19,
   "metadata": {
    "colab": {
     "base_uri": "https://localhost:8080/"
    },
    "executionInfo": {
     "elapsed": 270,
     "status": "ok",
     "timestamp": 1736672537469,
     "user": {
      "displayName": "신동욱",
      "userId": "07395320685930588072"
     },
     "user_tz": -540
    },
    "id": "g8-cPfdev71h",
    "outputId": "384e4c7b-ac4c-4a17-d62d-5144b412bc9d"
   },
   "outputs": [
    {
     "name": "stdout",
     "output_type": "stream",
     "text": [
      "Original shape: (12253, 208)\n",
      "Reduced shape: (12253, 2)\n"
     ]
    }
   ],
   "source": [
    "# PCA 적용 (주성분의 수를 2로 설정)\n",
    "pca = PCA(n_components=2)\n",
    "x_pca_sta = pca.fit_transform(x_scaled_sta)\n",
    "x_pca_sta = pd.DataFrame(x_pca_sta, index=x.index, columns=['PC1', 'PC2'])\n",
    "\n",
    "# 3. 결과 출력\n",
    "print(f\"Original shape: {x.shape}\")\n",
    "print(f\"Reduced shape: {x_pca_sta.shape}\")\n"
   ]
  },
  {
   "cell_type": "code",
   "execution_count": 20,
   "metadata": {
    "colab": {
     "base_uri": "https://localhost:8080/"
    },
    "executionInfo": {
     "elapsed": 5,
     "status": "ok",
     "timestamp": 1736672538769,
     "user": {
      "displayName": "신동욱",
      "userId": "07395320685930588072"
     },
     "user_tz": -540
    },
    "id": "0M-Q07lPv82i",
    "outputId": "3931ce9d-c5e4-4af9-dfd6-7e610c7d54f2"
   },
   "outputs": [
    {
     "name": "stdout",
     "output_type": "stream",
     "text": [
      "<class 'pandas.core.frame.DataFrame'>\n",
      "Index: 12253 entries, 0 to 13193\n",
      "Data columns (total 11 columns):\n",
      " #   Column  Non-Null Count  Dtype  \n",
      "---  ------  --------------  -----  \n",
      " 0   PC1     12253 non-null  float64\n",
      " 1   PC2     12253 non-null  float64\n",
      " 2   DI1_dg  12253 non-null  float64\n",
      " 3   DI2_dg  12253 non-null  float64\n",
      " 4   DE1_dg  12253 non-null  float64\n",
      " 5   DJ4_dg  12253 non-null  float64\n",
      " 6   DL1_dg  12253 non-null  float64\n",
      " 7   DJ8_dg  12253 non-null  float64\n",
      " 8   DJ6_dg  12253 non-null  float64\n",
      " 9   DH4_dg  12253 non-null  float64\n",
      " 10  DN1_dg  12253 non-null  float64\n",
      "dtypes: float64(11)\n",
      "memory usage: 1.1 MB\n"
     ]
    }
   ],
   "source": [
    "df_merged_sta = pd.concat([pd.DataFrame(x_pca_sta, columns=['PC1', 'PC2']), y], axis=1)\n",
    "df_merged_sta.info()"
   ]
  },
  {
   "cell_type": "code",
   "execution_count": 46,
   "metadata": {},
   "outputs": [
    {
     "data": {
      "text/html": [
       "<div>\n",
       "<style scoped>\n",
       "    .dataframe tbody tr th:only-of-type {\n",
       "        vertical-align: middle;\n",
       "    }\n",
       "\n",
       "    .dataframe tbody tr th {\n",
       "        vertical-align: top;\n",
       "    }\n",
       "\n",
       "    .dataframe thead th {\n",
       "        text-align: right;\n",
       "    }\n",
       "</style>\n",
       "<table border=\"1\" class=\"dataframe\">\n",
       "  <thead>\n",
       "    <tr style=\"text-align: right;\">\n",
       "      <th></th>\n",
       "      <th>PC1</th>\n",
       "      <th>PC2</th>\n",
       "      <th>DI1_dg</th>\n",
       "      <th>DI2_dg</th>\n",
       "      <th>DE1_dg</th>\n",
       "      <th>DJ4_dg</th>\n",
       "      <th>DL1_dg</th>\n",
       "      <th>DJ8_dg</th>\n",
       "      <th>DJ6_dg</th>\n",
       "      <th>DH4_dg</th>\n",
       "      <th>DN1_dg</th>\n",
       "    </tr>\n",
       "  </thead>\n",
       "  <tbody>\n",
       "    <tr>\n",
       "      <th>0</th>\n",
       "      <td>-2.524142</td>\n",
       "      <td>-1.751113</td>\n",
       "      <td>1.0</td>\n",
       "      <td>0.0</td>\n",
       "      <td>0.0</td>\n",
       "      <td>0.0</td>\n",
       "      <td>0.0</td>\n",
       "      <td>0.0</td>\n",
       "      <td>0.0</td>\n",
       "      <td>0.0</td>\n",
       "      <td>0.0</td>\n",
       "    </tr>\n",
       "    <tr>\n",
       "      <th>1</th>\n",
       "      <td>-1.554122</td>\n",
       "      <td>4.256023</td>\n",
       "      <td>0.0</td>\n",
       "      <td>0.0</td>\n",
       "      <td>0.0</td>\n",
       "      <td>0.0</td>\n",
       "      <td>0.0</td>\n",
       "      <td>0.0</td>\n",
       "      <td>0.0</td>\n",
       "      <td>0.0</td>\n",
       "      <td>0.0</td>\n",
       "    </tr>\n",
       "    <tr>\n",
       "      <th>2</th>\n",
       "      <td>-2.107448</td>\n",
       "      <td>3.137106</td>\n",
       "      <td>0.0</td>\n",
       "      <td>0.0</td>\n",
       "      <td>0.0</td>\n",
       "      <td>0.0</td>\n",
       "      <td>0.0</td>\n",
       "      <td>1.0</td>\n",
       "      <td>0.0</td>\n",
       "      <td>1.0</td>\n",
       "      <td>0.0</td>\n",
       "    </tr>\n",
       "    <tr>\n",
       "      <th>3</th>\n",
       "      <td>-4.280098</td>\n",
       "      <td>-1.541587</td>\n",
       "      <td>0.0</td>\n",
       "      <td>1.0</td>\n",
       "      <td>0.0</td>\n",
       "      <td>0.0</td>\n",
       "      <td>0.0</td>\n",
       "      <td>0.0</td>\n",
       "      <td>0.0</td>\n",
       "      <td>0.0</td>\n",
       "      <td>0.0</td>\n",
       "    </tr>\n",
       "    <tr>\n",
       "      <th>4</th>\n",
       "      <td>-3.893138</td>\n",
       "      <td>0.174722</td>\n",
       "      <td>0.0</td>\n",
       "      <td>1.0</td>\n",
       "      <td>0.0</td>\n",
       "      <td>0.0</td>\n",
       "      <td>0.0</td>\n",
       "      <td>0.0</td>\n",
       "      <td>0.0</td>\n",
       "      <td>0.0</td>\n",
       "      <td>0.0</td>\n",
       "    </tr>\n",
       "  </tbody>\n",
       "</table>\n",
       "</div>"
      ],
      "text/plain": [
       "        PC1       PC2  DI1_dg  DI2_dg  DE1_dg  DJ4_dg  DL1_dg  DJ8_dg  DJ6_dg  \\\n",
       "0 -2.524142 -1.751113     1.0     0.0     0.0     0.0     0.0     0.0     0.0   \n",
       "1 -1.554122  4.256023     0.0     0.0     0.0     0.0     0.0     0.0     0.0   \n",
       "2 -2.107448  3.137106     0.0     0.0     0.0     0.0     0.0     1.0     0.0   \n",
       "3 -4.280098 -1.541587     0.0     1.0     0.0     0.0     0.0     0.0     0.0   \n",
       "4 -3.893138  0.174722     0.0     1.0     0.0     0.0     0.0     0.0     0.0   \n",
       "\n",
       "   DH4_dg  DN1_dg  \n",
       "0     0.0     0.0  \n",
       "1     0.0     0.0  \n",
       "2     1.0     0.0  \n",
       "3     0.0     0.0  \n",
       "4     0.0     0.0  "
      ]
     },
     "execution_count": 46,
     "metadata": {},
     "output_type": "execute_result"
    }
   ],
   "source": [
    "df_merged_sta.head()"
   ]
  },
  {
   "cell_type": "code",
   "execution_count": 37,
   "metadata": {},
   "outputs": [],
   "source": [
    "import joblib"
   ]
  },
  {
   "cell_type": "code",
   "execution_count": 38,
   "metadata": {
    "colab": {
     "base_uri": "https://localhost:8080/"
    },
    "executionInfo": {
     "elapsed": 3973,
     "status": "ok",
     "timestamp": 1736672576818,
     "user": {
      "displayName": "신동욱",
      "userId": "07395320685930588072"
     },
     "user_tz": -540
    },
    "id": "4O06Z5b6wCtG",
    "outputId": "5106cc52-42db-46a5-9479-7a084ccd0e00"
   },
   "outputs": [
    {
     "name": "stdout",
     "output_type": "stream",
     "text": [
      "Test RMSE: 0.23597329098315734\n",
      "Test R^2: 0.17785385251045227\n",
      "Validation RMSE: 0.23502661058842383\n",
      "Validation R^2: 0.1754773110151291\n"
     ]
    }
   ],
   "source": [
    "from sklearn.metrics import mean_squared_error, r2_score\n",
    "import xgboost as xgb\n",
    "\n",
    "# 데이터 나누기\n",
    "train_test_data, validation_data = train_test_split(df_merged_sta, test_size=0.2, random_state=42)\n",
    "train_data, test_data = train_test_split(train_test_data, test_size=0.25, random_state=42)\n",
    "\n",
    "# 학습/테스트 데이터 분리\n",
    "x_train = train_data.drop(columns=dependent_columns)\n",
    "y_train = train_data[dependent_columns]\n",
    "\n",
    "x_test = test_data.drop(columns=dependent_columns)\n",
    "y_test = test_data[dependent_columns]\n",
    "\n",
    "# 검증 데이터 분리\n",
    "x_val = validation_data.drop(columns=dependent_columns)\n",
    "y_val = validation_data[dependent_columns]\n",
    "\n",
    "# 모델 생성 및 학습\n",
    "model = xgb.XGBRegressor(\n",
    "    objective='reg:squarederror',\n",
    "    n_estimators=100,\n",
    "    learning_rate=0.1,\n",
    "    max_depth=6,\n",
    "    random_state=42\n",
    ")\n",
    "model.fit(x_train, y_train)\n",
    "\n",
    "# 테스트 데이터 평가\n",
    "y_pred_test = model.predict(x_test)\n",
    "rmse_test = np.sqrt(mean_squared_error(y_test, y_pred_test))\n",
    "r2_test = r2_score(y_test, y_pred_test)\n",
    "\n",
    "print(f\"Test RMSE: {rmse_test}\")\n",
    "print(f\"Test R^2: {r2_test}\")\n",
    "\n",
    "# 검증 데이터 평가\n",
    "y_pred_val = model.predict(x_val)\n",
    "rmse_val = np.sqrt(mean_squared_error(y_val, y_pred_val))\n",
    "r2_val = r2_score(y_val, y_pred_val)\n",
    "\n",
    "print(f\"Validation RMSE: {rmse_val}\")\n",
    "print(f\"Validation R^2: {r2_val}\")\n"
   ]
  },
  {
   "cell_type": "code",
   "execution_count": 44,
   "metadata": {},
   "outputs": [
    {
     "name": "stdout",
     "output_type": "stream",
     "text": [
      "x_train shape: (7351, 2)\n",
      "x_test shape: (2451, 2)\n",
      "y_train shape: (7351, 9)\n",
      "y_test shape: (2451, 9)\n",
      "y_pred_test shape: (2451, 9)\n",
      "y_pred_test example: [[ 6.45218370e-03  4.10986738e-03  2.05119752e-04  1.47506560e-03\n",
      "   2.25614756e-03 -1.57314260e-03  4.24176367e-04  1.84947660e-03\n",
      "   1.56846573e-03]\n",
      " [ 1.30751207e-01  2.21364111e-01  1.02451188e-03  2.00508558e-03\n",
      "   5.80951758e-02  2.01514810e-01  3.47576439e-02  4.31132466e-02\n",
      "   8.48293584e-03]\n",
      " [ 1.18312901e-02  2.58590351e-03  3.00118991e-05  1.49185555e-02\n",
      "   1.39468526e-02  1.08715050e-01  1.11139618e-01  6.98098466e-02\n",
      "   1.50207812e-02]\n",
      " [ 8.73078585e-01  6.97447181e-01  1.51711446e-03  6.85995491e-03\n",
      "   1.01822698e-02  4.93612587e-02  7.17570186e-02  4.49694358e-02\n",
      "   6.95123971e-02]\n",
      " [-1.05170382e-03 -1.19604694e-03 -3.16570135e-04  7.99857732e-03\n",
      "   8.38404596e-02  2.35856369e-01  9.61460993e-02  6.65056929e-02\n",
      "   1.41677819e-03]]\n",
      "y_test example: [[0. 0. 0. 0. 0. 0. 0. 0. 0.]\n",
      " [0. 0. 0. 0. 0. 0. 0. 0. 0.]\n",
      " [0. 0. 0. 0. 0. 0. 1. 0. 0.]\n",
      " [1. 0. 0. 0. 0. 0. 0. 0. 0.]\n",
      " [0. 0. 0. 0. 0. 0. 0. 0. 0.]]\n"
     ]
    }
   ],
   "source": [
    "# 입력값 확인\n",
    "print(f\"x_train shape: {x_train.shape}\")\n",
    "print(f\"x_test shape: {x_test.shape}\")\n",
    "print(f\"y_train shape: {y_train.shape}\")\n",
    "print(f\"y_test shape: {y_test.shape}\")\n",
    "\n",
    "# 예측값 확인\n",
    "print(f\"y_pred_test shape: {y_pred_test.shape}\")\n",
    "print(f\"y_pred_test example: {y_pred_test[:5]}\")  # 일부 예측값 출력\n",
    "\n",
    "# 실제값 확인\n",
    "print(f\"y_test example: {y_test[:5].values}\")  # 일부 실제값 출력\n"
   ]
  },
  {
   "cell_type": "code",
   "execution_count": 48,
   "metadata": {},
   "outputs": [],
   "source": [
    "test_set = [[-1.9, 3.28]]\n",
    "result = model.predict(test_set)"
   ]
  },
  {
   "cell_type": "code",
   "execution_count": 49,
   "metadata": {},
   "outputs": [
    {
     "name": "stdout",
     "output_type": "stream",
     "text": [
      "[[ 0.00108653 -0.00042336 -0.00031657  0.0036131   0.06534135  0.1955613\n",
      "   0.06985424  0.05504065  0.00533497]]\n"
     ]
    }
   ],
   "source": [
    "print(result)\n"
   ]
  },
  {
   "cell_type": "code",
   "execution_count": null,
   "metadata": {},
   "outputs": [],
   "source": []
  }
 ],
 "metadata": {
  "colab": {
   "authorship_tag": "ABX9TyOX0wcbVd8oKkm/feL8DI2r",
   "provenance": []
  },
  "kernelspec": {
   "display_name": "Python 3",
   "language": "python",
   "name": "python3"
  },
  "language_info": {
   "codemirror_mode": {
    "name": "ipython",
    "version": 3
   },
   "file_extension": ".py",
   "mimetype": "text/x-python",
   "name": "python",
   "nbconvert_exporter": "python",
   "pygments_lexer": "ipython3",
   "version": "3.12.3"
  }
 },
 "nbformat": 4,
 "nbformat_minor": 4
}
